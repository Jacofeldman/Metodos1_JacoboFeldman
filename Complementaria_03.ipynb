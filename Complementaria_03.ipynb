{
  "cells": [
    {
      "cell_type": "markdown",
      "metadata": {
        "id": "view-in-github",
        "colab_type": "text"
      },
      "source": [
        "<a href=\"https://colab.research.google.com/github/Jacofeldman/Metodos1_JacoboFeldman/blob/main/Complementaria_03.ipynb\" target=\"_parent\"><img src=\"https://colab.research.google.com/assets/colab-badge.svg\" alt=\"Open In Colab\"/></a>"
      ]
    },
    {
      "cell_type": "markdown",
      "id": "970a4048-e376-4d95-8d9e-ef2d592fba44",
      "metadata": {
        "id": "970a4048-e376-4d95-8d9e-ef2d592fba44"
      },
      "source": [
        "> Complementaria métodos computacionales 1\n",
        ">\n",
        "> Semana 03\n",
        "\n",
        "***"
      ]
    },
    {
      "cell_type": "markdown",
      "id": "a66ff74d-1b39-4873-9792-acac51f70fe2",
      "metadata": {
        "id": "a66ff74d-1b39-4873-9792-acac51f70fe2"
      },
      "source": [
        "# 1) Longitud de arco (2.5/5)\n",
        "\n",
        "La longitud de arco que conecta dos puntos en el plano es:\n",
        "\n",
        "$$\n",
        "d = \\sqrt{(x_0-x_1)^2 + (y_0-y_1)^2}\n",
        "$$\n",
        "\n",
        "La longitud de arco total para $N$ puntos $\\{(x_0,y_0),(x_1,y_1),\\cdots,(x_{N-1},y_{N-1})\\}$ sería la suma entre pares de puntos consecutivos en el eje $x$:\n",
        "\n",
        "$$\n",
        "d_{total} = \\sum_{i=0}^{N-2} \\sqrt{  (x_i-x_{i+1})^2  + (y_i-y_{i+1})^2 }\n",
        "$$\n",
        "\n",
        "Cree una función `data_arclength(x:np.array,y:np.array) -> float` que dados los datos `x` y `y` (numpy arrays), retorne como un número la longitud de arco total de los datos.\n",
        "\n",
        "Notas:\n",
        "* La función produce el resultado correcto en datos ordenados en `x` +0.75pt\n",
        "* La función produce el resultado correcto en datos **NO** ordenados  en `x` +1.0pt\n",
        "* No usa loops a nivel de Python (no `while`, `for`, `map` o `reduce`) +0.75pt\n",
        "* Prohibidísimo usar recursión -1.0pt\n",
        "\n",
        "Puede usar cualquier función de numpy. Se recomienda `argsort`, `diff`, `sqrt`, y `sum`. No se recomienda usar la función `sorted` que vimos la semana pasada."
      ]
    },
    {
      "cell_type": "code",
      "execution_count": 29,
      "id": "cd165c70-cd99-4777-9736-d392c0646fd0",
      "metadata": {
        "id": "cd165c70-cd99-4777-9736-d392c0646fd0"
      },
      "outputs": [],
      "source": [
        "# Use los siguientes datos para probar su solución\n",
        "import numpy as np\n",
        "random = np.random.default_rng()\n",
        "\n",
        "N = 100\n",
        "X = random.uniform(size=N)\n",
        "Y = np.sin(10*X)"
      ]
    },
    {
      "cell_type": "code",
      "execution_count": 43,
      "id": "16556b48-6616-4e7e-9fd8-40942c49f26f",
      "metadata": {
        "colab": {
          "base_uri": "https://localhost:8080/"
        },
        "id": "16556b48-6616-4e7e-9fd8-40942c49f26f",
        "outputId": "fd741c45-85e8-478f-c17f-9982dcd6e3e6"
      },
      "outputs": [
        {
          "output_type": "execute_result",
          "data": {
            "text/plain": [
              "6.438740782183724"
            ]
          },
          "metadata": {},
          "execution_count": 43
        }
      ],
      "source": [
        "# solución aquí\n",
        "import numpy as np\n",
        "\n",
        "def data_arclength(x: np.array, y: np.array) -> float:\n",
        "\n",
        "    sorted_indices = np.argsort(x)\n",
        "    x_sorted = x[sorted_indices]\n",
        "    y_sorted = y[sorted_indices]\n",
        "\n",
        "\n",
        "    dx = np.diff(x_sorted)\n",
        "    dy = np.diff(y_sorted)\n",
        "\n",
        "\n",
        "    arclength = np.sum(np.sqrt(dx**2 + dy**2))\n",
        "\n",
        "    return arclength\n",
        "data_arclength(X,Y)"
      ]
    },
    {
      "cell_type": "code",
      "source": [],
      "metadata": {
        "id": "9d98d9peS76H"
      },
      "id": "9d98d9peS76H",
      "execution_count": null,
      "outputs": []
    },
    {
      "cell_type": "markdown",
      "id": "5c082211-265b-4e14-b8f4-b21455d72edf",
      "metadata": {
        "id": "5c082211-265b-4e14-b8f4-b21455d72edf"
      },
      "source": [
        "# 2) Detección de datos atípicos (2.5/5)\n",
        "\n",
        "Los datos atípicos (outliers) son aquellos que se desvían del resto de su conjunto de datos, y que posiblemente se traten de errores experimentales que deban ser removidos para el análisis.\n",
        "\n",
        "Por ejemplo, los siguientes datos deberían tener promedio 0 y desviación estándar 1, pero con los 10 puntos atípicos contaminan la información:"
      ]
    },
    {
      "cell_type": "code",
      "execution_count": 188,
      "id": "071ec202-2527-4536-877c-5a185bd32892",
      "metadata": {
        "id": "071ec202-2527-4536-877c-5a185bd32892"
      },
      "outputs": [],
      "source": [
        "N = 500\n",
        "n = 10\n",
        "Z = np.concatenate([random.normal(loc=0.0,scale=1.0,size=N),\n",
        "    random.normal(loc=40.,scale=0.1,size=n),\n",
        "    random.normal(loc=0.,scale=20,size=2*n)])\n",
        "random.shuffle(Z)"
      ]
    },
    {
      "cell_type": "code",
      "execution_count": 189,
      "id": "9efc6a6e-6d13-45f3-9478-80967b3eba6a",
      "metadata": {
        "colab": {
          "base_uri": "https://localhost:8080/"
        },
        "id": "9efc6a6e-6d13-45f3-9478-80967b3eba6a",
        "outputId": "134fc288-6bbe-4a91-c214-d33f629d2f2f"
      },
      "outputs": [
        {
          "output_type": "execute_result",
          "data": {
            "text/plain": [
              "7.022543802574335"
            ]
          },
          "metadata": {},
          "execution_count": 189
        }
      ],
      "source": [
        "np.std(Z)"
      ]
    },
    {
      "cell_type": "code",
      "execution_count": 190,
      "id": "5f5e1b2a-4ab6-418c-a5b7-56761ab39d30",
      "metadata": {
        "colab": {
          "base_uri": "https://localhost:8080/"
        },
        "id": "5f5e1b2a-4ab6-418c-a5b7-56761ab39d30",
        "outputId": "ed27f1ca-6631-4c88-c493-56423e0f3437"
      },
      "outputs": [
        {
          "output_type": "execute_result",
          "data": {
            "text/plain": [
              "1.1486635642894212"
            ]
          },
          "metadata": {},
          "execution_count": 190
        }
      ],
      "source": [
        "np.mean(Z)"
      ]
    },
    {
      "cell_type": "markdown",
      "id": "180d145b-9d7a-443a-b3f4-2c9215088095",
      "metadata": {
        "id": "180d145b-9d7a-443a-b3f4-2c9215088095"
      },
      "source": [
        "* Cree una función `delete_outliers(x,sigma=3,iters=5)` que remueva los datos de array `x` que estén a más de `sigma` desviaciones estándar del promedio. +1.0pt\n",
        "\n",
        "* La función debe también aceptar un argumento opcional, `iters`, que diga el número de iteraciones que se debe realizar este procedimiento de eliminación sobre los datos `x`. +1.0\n",
        "* Sólo debería tener un ciclo `for` que se encargue de realizar estas iteraciones. +0.5\n",
        "\n",
        "Para probar su código, use la variable `Z` creada en la celda de arriba. Después de 5 iteraciones el promedio de los datos resultantes debería ser cercano a 0. y la desviación estándar cercana a 1. No se espera que sea exacto."
      ]
    },
    {
      "cell_type": "code",
      "execution_count": 1,
      "id": "931b2d3e-2a07-452b-8907-68242c7c4744",
      "metadata": {
        "colab": {
          "base_uri": "https://localhost:8080/",
          "height": 211
        },
        "id": "931b2d3e-2a07-452b-8907-68242c7c4744",
        "outputId": "0a34a82d-0571-4cf8-b2b6-f8867389db9c"
      },
      "outputs": [
        {
          "output_type": "error",
          "ename": "NameError",
          "evalue": "name 'Z' is not defined",
          "traceback": [
            "\u001b[0;31m---------------------------------------------------------------------------\u001b[0m",
            "\u001b[0;31mNameError\u001b[0m                                 Traceback (most recent call last)",
            "\u001b[0;32m<ipython-input-1-8aef1f10534a>\u001b[0m in \u001b[0;36m<cell line: 9>\u001b[0;34m()\u001b[0m\n\u001b[1;32m      7\u001b[0m         \u001b[0mx\u001b[0m \u001b[0;34m=\u001b[0m \u001b[0mx\u001b[0m\u001b[0;34m[\u001b[0m\u001b[0mabs\u001b[0m\u001b[0;34m(\u001b[0m\u001b[0mx\u001b[0m \u001b[0;34m-\u001b[0m \u001b[0mmean\u001b[0m\u001b[0;34m)\u001b[0m \u001b[0;34m<=\u001b[0m \u001b[0msigma\u001b[0m \u001b[0;34m*\u001b[0m \u001b[0mstd_dev\u001b[0m\u001b[0;34m]\u001b[0m\u001b[0;34m\u001b[0m\u001b[0;34m\u001b[0m\u001b[0m\n\u001b[1;32m      8\u001b[0m     \u001b[0;32mreturn\u001b[0m \u001b[0mx\u001b[0m\u001b[0;34m\u001b[0m\u001b[0;34m\u001b[0m\u001b[0m\n\u001b[0;32m----> 9\u001b[0;31m \u001b[0my\u001b[0m\u001b[0;34m=\u001b[0m\u001b[0mdelete_outliers\u001b[0m\u001b[0;34m(\u001b[0m\u001b[0mZ\u001b[0m\u001b[0;34m)\u001b[0m\u001b[0;34m\u001b[0m\u001b[0;34m\u001b[0m\u001b[0m\n\u001b[0m\u001b[1;32m     10\u001b[0m \u001b[0mnp\u001b[0m\u001b[0;34m.\u001b[0m\u001b[0mstd\u001b[0m\u001b[0;34m(\u001b[0m\u001b[0my\u001b[0m\u001b[0;34m)\u001b[0m\u001b[0;34m\u001b[0m\u001b[0;34m\u001b[0m\u001b[0m\n\u001b[1;32m     11\u001b[0m \u001b[0mnp\u001b[0m\u001b[0;34m.\u001b[0m\u001b[0mmean\u001b[0m\u001b[0;34m(\u001b[0m\u001b[0my\u001b[0m\u001b[0;34m)\u001b[0m\u001b[0;34m\u001b[0m\u001b[0;34m\u001b[0m\u001b[0m\n",
            "\u001b[0;31mNameError\u001b[0m: name 'Z' is not defined"
          ]
        }
      ],
      "source": [
        "# solución aquí\n",
        "import numpy as np\n",
        "def delete_outliers(x, sigma=3, iters=1000):\n",
        "    for i in range(iters):\n",
        "        mean = np.mean(x)\n",
        "        std_dev = np.std(x)\n",
        "        x = x[abs(x - mean) <= sigma * std_dev]\n",
        "    return x\n",
        "y=delete_outliers(Z)\n",
        "np.std(y)\n",
        "np.mean(y)\n",
        "print(np.std(y),np.mean(y))\n"
      ]
    }
  ],
  "metadata": {
    "kernelspec": {
      "display_name": "Python 3 (ipykernel)",
      "language": "python",
      "name": "python3"
    },
    "language_info": {
      "codemirror_mode": {
        "name": "ipython",
        "version": 3
      },
      "file_extension": ".py",
      "mimetype": "text/x-python",
      "name": "python",
      "nbconvert_exporter": "python",
      "pygments_lexer": "ipython3",
      "version": "3.12.4"
    },
    "colab": {
      "provenance": [],
      "include_colab_link": true
    }
  },
  "nbformat": 4,
  "nbformat_minor": 5
}