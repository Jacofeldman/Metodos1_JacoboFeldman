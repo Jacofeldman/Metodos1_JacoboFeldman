{
  "nbformat": 4,
  "nbformat_minor": 0,
  "metadata": {
    "colab": {
      "provenance": [],
      "authorship_tag": "ABX9TyMDkZngFSMAN5hVgV1Qey79",
      "include_colab_link": true
    },
    "kernelspec": {
      "name": "python3",
      "display_name": "Python 3"
    },
    "language_info": {
      "name": "python"
    }
  },
  "cells": [
    {
      "cell_type": "markdown",
      "metadata": {
        "id": "view-in-github",
        "colab_type": "text"
      },
      "source": [
        "<a href=\"https://colab.research.google.com/github/Jacofeldman/Metodos1_JacoboFeldman/blob/main/Parcial2/Tierra_plana_.ipynb\" target=\"_parent\"><img src=\"https://colab.research.google.com/assets/colab-badge.svg\" alt=\"Open In Colab\"/></a>"
      ]
    },
    {
      "cell_type": "code",
      "source": [
        "import numpy as np\n",
        "from numpy.polynomial.legendre import leggauss\n",
        "\n",
        "# Constantes del problema\n",
        "R = 1  # Radio del disco\n",
        "z = 0.2  # Altura en la dirección k\n",
        "g_target = -9.813646  # Valor objetivo de la gravedad en (0, 0, 0.2)\n",
        "k_const = 1.9429303960  # Constante gravitacional ajustada\n",
        "\n",
        "# Número de puntos de Gauss-Legendre\n",
        "N = 50\n",
        "\n",
        "# Parte (a) - Cargar puntos y pesos de Gauss\n",
        "def cargar_puntos_pesos_gauss(N):\n",
        "    r_points, r_weights = leggauss(N)\n",
        "    phi_points, phi_weights = leggauss(N)\n",
        "\n",
        "    # Escalar los puntos y pesos a los intervalos [0, R] y [0, 2pi]\n",
        "    r_points = 0.5 * R * (r_points + 1)  # Transformación de [-1, 1] a [0, R]\n",
        "    r_weights = 0.5 * R * r_weights      # Ajustar los pesos también\n",
        "\n",
        "    phi_points = np.pi * (phi_points + 1)  # Transformación de [-1, 1] a [0, 2pi]\n",
        "    phi_weights = np.pi * phi_weights      # Ajustar los pesos también\n",
        "\n",
        "    return r_points, r_weights, phi_points, phi_weights\n",
        "\n",
        "# Parte (b) - Definir la función de la ecuación\n",
        "def integrand(r, phi, x=0, y=0, z=z):\n",
        "    \"\"\"\n",
        "    Calcula el integrando de la ecuación gravitacional en coordenadas polares.\n",
        "    \"\"\"\n",
        "    denom = (x**2 + y**2 + z**2 - 2*r*x*np.cos(phi) - 2*r*y*np.sin(phi))**(3/2)\n",
        "    return (z * r) / denom\n",
        "\n",
        "# Parte (c) - Definir una función para calcular la integral con doble cuadratura\n",
        "def calcular_campo_gravitacional(x, y, z, N=50):\n",
        "    \"\"\"\n",
        "    Calcula el campo gravitacional g_k(x, y, z) sobre el disco\n",
        "    usando cuadratura de Gauss con N puntos.\n",
        "    \"\"\"\n",
        "    # Cargar los puntos y pesos de Gauss-Legendre\n",
        "    r_points, r_weights, phi_points, phi_weights = cargar_puntos_pesos_gauss(N)\n",
        "\n",
        "    # Inicializar el valor de la integral\n",
        "    gk_value = 0\n",
        "\n",
        "    # Doble integración utilizando los puntos de Gauss\n",
        "    for i in range(N):\n",
        "        for j in range(N):\n",
        "            r = r_points[i]\n",
        "            phi = phi_points[j]\n",
        "            weight = r_weights[i] * phi_weights[j]  # Producto de los pesos\n",
        "            gk_value += weight * integrand(r, phi, x, y, z)\n",
        "\n",
        "    # Multiplicar por la constante gravitacional k\n",
        "    gk_value *= -k_const\n",
        "\n",
        "    return gk_value\n",
        "\n",
        "# Parte (d) - Verificar el valor del campo gravitacional en (0, 0, 0.2)\n",
        "gk_en_0_0_0_2 = calcular_campo_gravitacional(0, 0, 0.2, N)\n",
        "print(f\"Campo gravitacional gk(0, 0, 0.2) = {gk_en_0_0_0_2} m/s²\")\n",
        "\n",
        "# Verificar si el resultado es cercano al valor objetivo\n",
        "if np.isclose(gk_en_0_0_0_2, g_target, atol=1e-4):\n",
        "    print(f\"¡El resultado es correcto! g = {gk_en_0_0_0_2} m/s²\")\n",
        "else:\n",
        "    print(f\"El resultado no es correcto. Se obtuvo g = {gk_en_0_0_0_2} m/s²\")\n"
      ],
      "metadata": {
        "colab": {
          "base_uri": "https://localhost:8080/"
        },
        "id": "2xJZPFH0z0tH",
        "outputId": "9881c96a-8a1f-41cd-8669-0f5dcc990751"
      },
      "execution_count": 3,
      "outputs": [
        {
          "output_type": "stream",
          "name": "stdout",
          "text": [
            "Campo gravitacional gk(0, 0, 0.2) = -152.5973964627479 m/s²\n",
            "El resultado no es correcto. Se obtuvo g = -152.5973964627479 m/s²\n"
          ]
        }
      ]
    }
  ]
}