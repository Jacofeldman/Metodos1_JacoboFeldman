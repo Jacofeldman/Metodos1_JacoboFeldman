{
  "cells": [
    {
      "cell_type": "markdown",
      "metadata": {
        "id": "view-in-github",
        "colab_type": "text"
      },
      "source": [
        "<a href=\"https://colab.research.google.com/github/Jacofeldman/Metodos1_JacoboFeldman/blob/Complementaria/Complementaria_04.ipynb\" target=\"_parent\"><img src=\"https://colab.research.google.com/assets/colab-badge.svg\" alt=\"Open In Colab\"/></a>"
      ]
    },
    {
      "cell_type": "markdown",
      "id": "970a4048-e376-4d95-8d9e-ef2d592fba44",
      "metadata": {
        "id": "970a4048-e376-4d95-8d9e-ef2d592fba44"
      },
      "source": [
        "> Complementaria métodos computacionales 1\n",
        ">\n",
        "> Semana 04\n",
        "\n",
        "***\n",
        "\n",
        "Para este ejercicio descargue de bloque neón el archivo de datos `datos_04.npz`, que contiene tres arrays: $x$, $y$, y $y_true$.\n",
        "\n",
        "$y$ contiene datos con ruido y $y_{true}$ contiene los datos sin ruido."
      ]
    },
    {
      "cell_type": "markdown",
      "id": "c4292192-db70-4033-ab04-6cd734504a75",
      "metadata": {
        "id": "c4292192-db70-4033-ab04-6cd734504a75"
      },
      "source": [
        "# 1) Importar y graficar\n",
        "\n",
        "* Importe los datos usando `np.load` (0.5pt)\n",
        "\n",
        "* Grafique la función con ruido ($y$ vs $x$) como un scatter, y encima, de color rojo, la función sin riudo ($y_{true}$ vs $x$) (0.5pt)"
      ]
    },
    {
      "cell_type": "code",
      "execution_count": 9,
      "id": "d036e376-110a-4803-af28-b62bc4f1d50a",
      "metadata": {
        "colab": {
          "base_uri": "https://localhost:8080/",
          "height": 408
        },
        "id": "d036e376-110a-4803-af28-b62bc4f1d50a",
        "outputId": "c54b1bc3-594d-45bd-909e-2bfdd48e2f25"
      },
      "outputs": [
        {
          "output_type": "error",
          "ename": "UnpicklingError",
          "evalue": "Failed to interpret file 'datos_04.npz' as a pickle",
          "traceback": [
            "\u001b[0;31m---------------------------------------------------------------------------\u001b[0m",
            "\u001b[0;31mUnpicklingError\u001b[0m                           Traceback (most recent call last)",
            "\u001b[0;32m/usr/local/lib/python3.10/dist-packages/numpy/lib/npyio.py\u001b[0m in \u001b[0;36mload\u001b[0;34m(file, mmap_mode, allow_pickle, fix_imports, encoding, max_header_size)\u001b[0m\n\u001b[1;32m    464\u001b[0m             \u001b[0;32mtry\u001b[0m\u001b[0;34m:\u001b[0m\u001b[0;34m\u001b[0m\u001b[0;34m\u001b[0m\u001b[0m\n\u001b[0;32m--> 465\u001b[0;31m                 \u001b[0;32mreturn\u001b[0m \u001b[0mpickle\u001b[0m\u001b[0;34m.\u001b[0m\u001b[0mload\u001b[0m\u001b[0;34m(\u001b[0m\u001b[0mfid\u001b[0m\u001b[0;34m,\u001b[0m \u001b[0;34m**\u001b[0m\u001b[0mpickle_kwargs\u001b[0m\u001b[0;34m)\u001b[0m\u001b[0;34m\u001b[0m\u001b[0;34m\u001b[0m\u001b[0m\n\u001b[0m\u001b[1;32m    466\u001b[0m             \u001b[0;32mexcept\u001b[0m \u001b[0mException\u001b[0m \u001b[0;32mas\u001b[0m \u001b[0me\u001b[0m\u001b[0;34m:\u001b[0m\u001b[0;34m\u001b[0m\u001b[0;34m\u001b[0m\u001b[0m\n",
            "\u001b[0;31mUnpicklingError\u001b[0m: invalid load key, '\\x0d'.",
            "\nThe above exception was the direct cause of the following exception:\n",
            "\u001b[0;31mUnpicklingError\u001b[0m                           Traceback (most recent call last)",
            "\u001b[0;32m<ipython-input-9-810d198e96bb>\u001b[0m in \u001b[0;36m<cell line: 4>\u001b[0;34m()\u001b[0m\n\u001b[1;32m      2\u001b[0m \u001b[0;32mimport\u001b[0m \u001b[0mmatplotlib\u001b[0m\u001b[0;34m.\u001b[0m\u001b[0mpyplot\u001b[0m \u001b[0;32mas\u001b[0m \u001b[0mplt\u001b[0m\u001b[0;34m\u001b[0m\u001b[0;34m\u001b[0m\u001b[0m\n\u001b[1;32m      3\u001b[0m \u001b[0;34m\u001b[0m\u001b[0m\n\u001b[0;32m----> 4\u001b[0;31m \u001b[0mdata\u001b[0m\u001b[0;34m=\u001b[0m\u001b[0mnp\u001b[0m\u001b[0;34m.\u001b[0m\u001b[0mload\u001b[0m\u001b[0;34m(\u001b[0m\u001b[0;34m'datos_04.npz'\u001b[0m\u001b[0;34m,\u001b[0m\u001b[0mallow_pickle\u001b[0m\u001b[0;34m=\u001b[0m\u001b[0;32mTrue\u001b[0m\u001b[0;34m)\u001b[0m\u001b[0;34m\u001b[0m\u001b[0;34m\u001b[0m\u001b[0m\n\u001b[0m\u001b[1;32m      5\u001b[0m \u001b[0;32mfor\u001b[0m \u001b[0mkey\u001b[0m\u001b[0;34m,\u001b[0m \u001b[0mvalue\u001b[0m \u001b[0;32min\u001b[0m \u001b[0mdata\u001b[0m\u001b[0;34m.\u001b[0m\u001b[0mitems\u001b[0m\u001b[0;34m(\u001b[0m\u001b[0;34m)\u001b[0m\u001b[0;34m:\u001b[0m\u001b[0;34m\u001b[0m\u001b[0;34m\u001b[0m\u001b[0m\n\u001b[1;32m      6\u001b[0m     \u001b[0mnp\u001b[0m\u001b[0;34m.\u001b[0m\u001b[0msavetxt\u001b[0m\u001b[0;34m(\u001b[0m\u001b[0;34m\"somepath\"\u001b[0m \u001b[0;34m+\u001b[0m \u001b[0mkey\u001b[0m \u001b[0;34m+\u001b[0m \u001b[0;34m\".csv\"\u001b[0m\u001b[0;34m,\u001b[0m \u001b[0mvalue\u001b[0m\u001b[0;34m)\u001b[0m\u001b[0;34m\u001b[0m\u001b[0;34m\u001b[0m\u001b[0m\n",
            "\u001b[0;32m/usr/local/lib/python3.10/dist-packages/numpy/lib/npyio.py\u001b[0m in \u001b[0;36mload\u001b[0;34m(file, mmap_mode, allow_pickle, fix_imports, encoding, max_header_size)\u001b[0m\n\u001b[1;32m    465\u001b[0m                 \u001b[0;32mreturn\u001b[0m \u001b[0mpickle\u001b[0m\u001b[0;34m.\u001b[0m\u001b[0mload\u001b[0m\u001b[0;34m(\u001b[0m\u001b[0mfid\u001b[0m\u001b[0;34m,\u001b[0m \u001b[0;34m**\u001b[0m\u001b[0mpickle_kwargs\u001b[0m\u001b[0;34m)\u001b[0m\u001b[0;34m\u001b[0m\u001b[0;34m\u001b[0m\u001b[0m\n\u001b[1;32m    466\u001b[0m             \u001b[0;32mexcept\u001b[0m \u001b[0mException\u001b[0m \u001b[0;32mas\u001b[0m \u001b[0me\u001b[0m\u001b[0;34m:\u001b[0m\u001b[0;34m\u001b[0m\u001b[0;34m\u001b[0m\u001b[0m\n\u001b[0;32m--> 467\u001b[0;31m                 raise pickle.UnpicklingError(\n\u001b[0m\u001b[1;32m    468\u001b[0m                     f\"Failed to interpret file {file!r} as a pickle\") from e\n\u001b[1;32m    469\u001b[0m \u001b[0;34m\u001b[0m\u001b[0m\n",
            "\u001b[0;31mUnpicklingError\u001b[0m: Failed to interpret file 'datos_04.npz' as a pickle"
          ]
        }
      ],
      "source": [
        "import numpy as np\n",
        "import matplotlib.pyplot as plt\n",
        "\n",
        "data=np.load('datos_04.npz',allow_pickle=True)\n",
        "for key, value in data.items():\n",
        "    np.savetxt(\"somepath\" + key + \".csv\", value)\n",
        "x = data['x']\n",
        "y = data['y']\n",
        "ytrue = data['ytrue']\n",
        "\n",
        "\n",
        "plt.figure(figsize=(10, 6))\n",
        "\n",
        "\n",
        "plt.scatter(x, y, color='blue', label='Datos con ruido')\n",
        "\n",
        "\n",
        "plt.plot(x, ytrue, color='red', label='Datos sin ruido')\n",
        "\n",
        "\n",
        "plt.xlabel('x')\n",
        "plt.ylabel('y')\n",
        "plt.title('Datos con y sin Ruido')\n",
        "plt.legend()\n",
        "plt.grid(True)\n",
        "\n",
        "plt.show()\n"
      ]
    },
    {
      "cell_type": "markdown",
      "id": "d5fe060e-547f-40ea-a641-2dd06648f9d8",
      "metadata": {
        "id": "d5fe060e-547f-40ea-a641-2dd06648f9d8"
      },
      "source": [
        "# 2)\n",
        "\n",
        "* Use diferencias finitas (centrales) para calcular la derivada de estos datos, tanto $y$ como $y_{true}$. Grafique ambas derivadas y compare. (1pt)\n",
        "    * EXTRA: use un esquema de cinco puntos (0.5pt)\n",
        "* No use ningún loop (`map`, `while`, `zip`, `for`) en este punto de su código. (1pt)"
      ]
    },
    {
      "cell_type": "code",
      "execution_count": null,
      "id": "851df101-70ea-493a-89cf-04ed7127b0d3",
      "metadata": {
        "id": "851df101-70ea-493a-89cf-04ed7127b0d3"
      },
      "outputs": [],
      "source": [
        "# solución\n"
      ]
    },
    {
      "cell_type": "markdown",
      "id": "fe696549-8c1a-40d8-a8d5-240cdd09552d",
      "metadata": {
        "id": "fe696549-8c1a-40d8-a8d5-240cdd09552d"
      },
      "source": [
        "# 3)\n",
        "\n",
        "* Use algún filtro para suavizar los datos $y$ (1pt). Algunas ideas para esto son:\n",
        "    * `scipy.dnimage.gaussian_filter1d`\n",
        "    * `scipy.dnimage.uniform_filter`\n",
        "    * `scipy.signal.savgol_filter`\n",
        "\n",
        "* Calcule de nuevo la derivada, y compárela de nuevo con la derivada de $y_{true}$. (1pt)\n",
        "\n",
        "* EXTRA: para alguno de estos filtros, grafique la suma de diferencias al cuadrado (RSS) entre la derivada de la función suavizada y la derivada real, como función del parámetro del filtro (sea sigma, ancho de ventana, etc)"
      ]
    },
    {
      "cell_type": "code",
      "execution_count": null,
      "id": "98543f0f-d960-4237-8671-ac9e875f4446",
      "metadata": {
        "id": "98543f0f-d960-4237-8671-ac9e875f4446"
      },
      "outputs": [],
      "source": [
        "# solución\n"
      ]
    }
  ],
  "metadata": {
    "kernelspec": {
      "display_name": "Python 3 (ipykernel)",
      "language": "python",
      "name": "python3"
    },
    "language_info": {
      "codemirror_mode": {
        "name": "ipython",
        "version": 3
      },
      "file_extension": ".py",
      "mimetype": "text/x-python",
      "name": "python",
      "nbconvert_exporter": "python",
      "pygments_lexer": "ipython3",
      "version": "3.12.4"
    },
    "colab": {
      "provenance": [],
      "include_colab_link": true
    }
  },
  "nbformat": 4,
  "nbformat_minor": 5
}