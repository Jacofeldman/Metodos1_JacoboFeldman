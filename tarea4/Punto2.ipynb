{
  "nbformat": 4,
  "nbformat_minor": 0,
  "metadata": {
    "colab": {
      "provenance": [],
      "include_colab_link": true
    },
    "kernelspec": {
      "name": "python3",
      "display_name": "Python 3"
    },
    "language_info": {
      "name": "python"
    }
  },
  "cells": [
    {
      "cell_type": "markdown",
      "metadata": {
        "id": "view-in-github",
        "colab_type": "text"
      },
      "source": [
        "<a href=\"https://colab.research.google.com/github/Jacofeldman/Metodos1_JacoboFeldman/blob/main/tarea4/Punto2.ipynb\" target=\"_parent\"><img src=\"https://colab.research.google.com/assets/colab-badge.svg\" alt=\"Open In Colab\"/></a>"
      ]
    },
    {
      "cell_type": "code",
      "source": [
        "import numpy as np\n",
        "\n",
        "def metodo_gauss_seidel(A, b, x0, tol=1e-9, max_iter=1000):\n",
        "    n = len(b)\n",
        "    x = np.copy(x0)\n",
        "\n",
        "    for k in range(max_iter):\n",
        "        x_prev = np.copy(x)\n",
        "\n",
        "        for i in range(n):\n",
        "            suma1 = sum(A[i, j] * x[j] for j in range(i))\n",
        "            suma2 = sum(A[i, j] * x_prev[j] for j in range(i + 1, n))\n",
        "            x[i] = (b[i] - suma1 - suma2) / A[i, i]\n",
        "\n",
        "\n",
        "        if np.linalg.norm(x - x_prev, ord=np.inf) < tol:\n",
        "            print(f\"Gauss-Seidel convergió en {k + 1} iteraciones\")\n",
        "            return x\n",
        "\n",
        "    print(\"Gauss-Seidel no convergió en el número máximo de iteraciones\")\n",
        "    return x\n",
        "\n",
        "\n",
        "A = np.array([[3., -1., -1.],\n",
        "              [-1., 3., 1.],\n",
        "              [2., 1., 4.]])\n",
        "b = np.array([1., 3., 7.])\n",
        "x0 = np.array([0., 0., 0.])\n",
        "\n",
        "\n",
        "solucion = metodo_gauss_seidel(A, b, x0)\n",
        "print(\"Solución:\", solucion)\n"
      ],
      "metadata": {
        "colab": {
          "base_uri": "https://localhost:8080/"
        },
        "id": "1TR66KXVLvjo",
        "outputId": "9ffa7568-b9c9-4e45-a615-d1e5407fb1c5"
      },
      "execution_count": 2,
      "outputs": [
        {
          "output_type": "stream",
          "name": "stdout",
          "text": [
            "Gauss-Seidel convergió en 17 iteraciones\n",
            "Solución: [1. 1. 1.]\n"
          ]
        }
      ]
    }
  ]
}