{
  "nbformat": 4,
  "nbformat_minor": 0,
  "metadata": {
    "colab": {
      "provenance": [],
      "include_colab_link": true
    },
    "kernelspec": {
      "name": "python3",
      "display_name": "Python 3"
    },
    "language_info": {
      "name": "python"
    }
  },
  "cells": [
    {
      "cell_type": "markdown",
      "metadata": {
        "id": "view-in-github",
        "colab_type": "text"
      },
      "source": [
        "<a href=\"https://colab.research.google.com/github/Jacofeldman/Metodos1_JacoboFeldman/blob/main/tarea4/Punto3.ipynb\" target=\"_parent\"><img src=\"https://colab.research.google.com/assets/colab-badge.svg\" alt=\"Open In Colab\"/></a>"
      ]
    },
    {
      "cell_type": "code",
      "execution_count": 1,
      "metadata": {
        "colab": {
          "base_uri": "https://localhost:8080/"
        },
        "id": "VPtxwJkTsv4P",
        "outputId": "1cdf86b8-d6ae-4096-f01a-4953db5bd140"
      },
      "outputs": [
        {
          "output_type": "stream",
          "name": "stdout",
          "text": [
            "Jacobi convergió en 30 iteraciones\n",
            "Solución Jacobi: [5. 5. 5. 5.]\n",
            "Gauss-Seidel convergió en 17 iteraciones\n",
            "Solución Gauss-Seidel: [5. 5. 5. 5.]\n"
          ]
        }
      ],
      "source": [
        "import numpy as np\n",
        "\n",
        "class SistemaLineal:\n",
        "    def __init__(self, A, b, tol=1e-10, max_iter=1000):\n",
        "        \"\"\"\n",
        "        Inicializa el sistema con la matriz A y el vector independiente b.\n",
        "        tol: tolerancia para determinar la convergencia.\n",
        "        max_iter: número máximo de iteraciones.\n",
        "        \"\"\"\n",
        "        self.A = np.array(A, dtype=float)\n",
        "        self.b = np.array(b, dtype=float)\n",
        "        self.tol = tol\n",
        "        self.max_iter = max_iter\n",
        "        self.n = len(b)  # número de ecuaciones\n",
        "\n",
        "    def metodo_jacobi(self):\n",
        "        \"\"\"\n",
        "        Resuelve el sistema usando el método de Jacobi.\n",
        "        \"\"\"\n",
        "        x = np.zeros_like(self.b)  # inicializar el vector x en ceros\n",
        "        x_prev = np.copy(x)\n",
        "\n",
        "        for k in range(self.max_iter):\n",
        "            for i in range(self.n):\n",
        "                suma = sum(self.A[i, j] * x_prev[j] for j in range(self.n) if j != i)\n",
        "                x[i] = (self.b[i] - suma) / self.A[i, i]\n",
        "\n",
        "            # Condición de convergencia\n",
        "            if np.linalg.norm(x - x_prev, ord=np.inf) < self.tol:\n",
        "                print(f\"Jacobi convergió en {k+1} iteraciones\")\n",
        "                return x\n",
        "\n",
        "            x_prev = np.copy(x)\n",
        "\n",
        "        print(\"Jacobi no convergió en el número máximo de iteraciones\")\n",
        "        return x\n",
        "\n",
        "    def metodo_gauss_seidel(self):\n",
        "        \"\"\"\n",
        "        Resuelve el sistema usando el método de Gauss-Seidel.\n",
        "        \"\"\"\n",
        "        x = np.zeros_like(self.b)  # inicializar el vector x en ceros\n",
        "\n",
        "        for k in range(self.max_iter):\n",
        "            x_prev = np.copy(x)\n",
        "\n",
        "            for i in range(self.n):\n",
        "                suma1 = sum(self.A[i, j] * x[j] for j in range(i))  # elementos ya actualizados\n",
        "                suma2 = sum(self.A[i, j] * x_prev[j] for j in range(i+1, self.n))  # elementos anteriores\n",
        "                x[i] = (self.b[i] - suma1 - suma2) / self.A[i, i]\n",
        "\n",
        "            # Condición de convergencia\n",
        "            if np.linalg.norm(x - x_prev, ord=np.inf) < self.tol:\n",
        "                print(f\"Gauss-Seidel convergió en {k+1} iteraciones\")\n",
        "                return x\n",
        "\n",
        "        print(\"Gauss-Seidel no convergió en el número máximo de iteraciones\")\n",
        "        return x\n",
        "\n",
        "\n"
      ]
    }
  ]
}