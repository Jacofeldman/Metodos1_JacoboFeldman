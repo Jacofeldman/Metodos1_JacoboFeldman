{
  "nbformat": 4,
  "nbformat_minor": 0,
  "metadata": {
    "colab": {
      "provenance": [],
      "include_colab_link": true
    },
    "kernelspec": {
      "name": "python3",
      "display_name": "Python 3"
    },
    "language_info": {
      "name": "python"
    }
  },
  "cells": [
    {
      "cell_type": "markdown",
      "metadata": {
        "id": "view-in-github",
        "colab_type": "text"
      },
      "source": [
        "<a href=\"https://colab.research.google.com/github/Jacofeldman/Metodos1_JacoboFeldman/blob/main/tarea4/Punto14.ipynb\" target=\"_parent\"><img src=\"https://colab.research.google.com/assets/colab-badge.svg\" alt=\"Open In Colab\"/></a>"
      ]
    },
    {
      "cell_type": "code",
      "source": [],
      "metadata": {
        "id": "XV4PCJX7eWBs"
      },
      "execution_count": null,
      "outputs": []
    },
    {
      "cell_type": "code",
      "source": [
        "import sympy as sp\n",
        "\n",
        "\n",
        "J_x = sp.Matrix([[0, 0, 0],\n",
        "                 [0, 0, -1],\n",
        "                 [0, 1, 0]])\n",
        "\n",
        "J_y = sp.Matrix([[0, 0, 1],\n",
        "                 [0, 0, 0],\n",
        "                 [-1, 0, 0]])\n",
        "\n",
        "J_z = sp.Matrix([[0, -1, 0],\n",
        "                 [1, 0, 0],\n",
        "                 [0, 0, 0]])\n",
        "\n",
        "\n",
        "def commutator(A, B):\n",
        "    return A * B - B * A\n",
        "\n",
        "\n",
        "commutator_xy = commutator(J_x, J_y)\n",
        "commutator_yz = commutator(J_y, J_z)\n",
        "commutator_zx = commutator(J_z, J_x)\n",
        "\n",
        "\n",
        "print(\"Conmutador [J_x, J_y]:\")\n",
        "sp.pprint(commutator_xy)\n",
        "\n",
        "print(\"\\nConmutador [J_y, J_z]:\")\n",
        "sp.pprint(commutator_yz)\n",
        "\n",
        "print(\"\\nConmutador [J_z, J_x]:\")\n",
        "sp.pprint(commutator_zx)\n",
        "\n",
        "\n",
        "print(\"\\nComprobando si los resultados coinciden con los generadores:\")\n",
        "print(\"J_z == [J_x, J_y]:\", commutator_xy == J_z)\n",
        "print(\"J_x == [J_y, J_z]:\", commutator_yz == J_x)\n",
        "print(\"J_y == [J_z, J_x]:\", commutator_zx == J_y)\n"
      ],
      "metadata": {
        "id": "qZvGX8-seD_F",
        "outputId": "4f6100bc-dc33-4f45-c15d-98d7d4a820e4",
        "colab": {
          "base_uri": "https://localhost:8080/"
        }
      },
      "execution_count": 1,
      "outputs": [
        {
          "output_type": "stream",
          "name": "stdout",
          "text": [
            "Conmutador [J_x, J_y]:\n",
            "⎡0  -1  0⎤\n",
            "⎢        ⎥\n",
            "⎢1  0   0⎥\n",
            "⎢        ⎥\n",
            "⎣0  0   0⎦\n",
            "\n",
            "Conmutador [J_y, J_z]:\n",
            "⎡0  0  0 ⎤\n",
            "⎢        ⎥\n",
            "⎢0  0  -1⎥\n",
            "⎢        ⎥\n",
            "⎣0  1  0 ⎦\n",
            "\n",
            "Conmutador [J_z, J_x]:\n",
            "⎡0   0  1⎤\n",
            "⎢        ⎥\n",
            "⎢0   0  0⎥\n",
            "⎢        ⎥\n",
            "⎣-1  0  0⎦\n",
            "\n",
            "Comprobando si los resultados coinciden con los generadores:\n",
            "J_z == [J_x, J_y]: True\n",
            "J_x == [J_y, J_z]: True\n",
            "J_y == [J_z, J_x]: True\n"
          ]
        }
      ]
    }
  ]
}