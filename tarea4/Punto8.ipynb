{
  "nbformat": 4,
  "nbformat_minor": 0,
  "metadata": {
    "colab": {
      "provenance": [],
      "include_colab_link": true
    },
    "kernelspec": {
      "name": "python3",
      "display_name": "Python 3"
    },
    "language_info": {
      "name": "python"
    }
  },
  "cells": [
    {
      "cell_type": "markdown",
      "metadata": {
        "id": "view-in-github",
        "colab_type": "text"
      },
      "source": [
        "<a href=\"https://colab.research.google.com/github/Jacofeldman/Metodos1_JacoboFeldman/blob/main/tarea4/Punto8.ipynb\" target=\"_parent\"><img src=\"https://colab.research.google.com/assets/colab-badge.svg\" alt=\"Open In Colab\"/></a>"
      ]
    },
    {
      "cell_type": "code",
      "execution_count": 4,
      "metadata": {
        "colab": {
          "base_uri": "https://localhost:8080/"
        },
        "id": "VPtxwJkTsv4P",
        "outputId": "168eb9bd-c361-4895-ca6e-5679cfca1b55"
      },
      "outputs": [
        {
          "output_type": "stream",
          "name": "stdout",
          "text": [
            "Matriz L:\n",
            "[[ 1.  0.  0.]\n",
            " [ 5.  1.  0.]\n",
            " [-2.  3.  1.]]\n",
            "\n",
            "Matriz U:\n",
            "[[ 4. -2.  1.]\n",
            " [ 0.  3.  7.]\n",
            " [ 0.  0. -2.]]\n"
          ]
        }
      ],
      "source": [
        "import numpy as np\n",
        "\n",
        "def descomposicion_LU(A):\n",
        "    \"\"\"\n",
        "    Realiza la descomposición LU de la matriz A.\n",
        "    Retorna las matrices L y U tal que A = LU.\n",
        "    \"\"\"\n",
        "    n = len(A)\n",
        "\n",
        "    # Inicializar L y U como matrices de ceros\n",
        "    L = np.zeros((n, n))\n",
        "    U = np.zeros((n, n))\n",
        "\n",
        "    # Descomposición LU\n",
        "    for i in range(n):\n",
        "        # U es triangular superior\n",
        "        for k in range(i, n):\n",
        "            suma_U = sum(L[i][j] * U[j][k] for j in range(i))\n",
        "            U[i][k] = A[i][k] - suma_U\n",
        "\n",
        "        # L es triangular inferior\n",
        "        for k in range(i, n):\n",
        "            if i == k:\n",
        "                L[i][i] = 1  # Diagonal de L es 1\n",
        "            else:\n",
        "                suma_L = sum(L[k][j] * U[j][i] for j in range(i))\n",
        "                L[k][i] = (A[k][i] - suma_L) / U[i][i]\n",
        "\n",
        "    return L, U\n",
        "\n",
        "# Matriz A\n",
        "A = np.array([[4, -2, 1],\n",
        "              [20, -7, 12],\n",
        "              [-8, 13, 17]])\n",
        "\n",
        "# Realizar la descomposición LU\n",
        "L, U = descomposicion_LU(A)\n",
        "\n",
        "# Mostrar los resultados\n",
        "print(\"Matriz L:\")\n",
        "print(L)\n",
        "print(\"\\nMatriz U:\")\n",
        "print(U)\n"
      ]
    }
  ]
}