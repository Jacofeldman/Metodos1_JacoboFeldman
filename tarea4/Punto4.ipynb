{
  "nbformat": 4,
  "nbformat_minor": 0,
  "metadata": {
    "colab": {
      "provenance": [],
      "include_colab_link": true
    },
    "kernelspec": {
      "name": "python3",
      "display_name": "Python 3"
    },
    "language_info": {
      "name": "python"
    }
  },
  "cells": [
    {
      "cell_type": "markdown",
      "metadata": {
        "id": "view-in-github",
        "colab_type": "text"
      },
      "source": [
        "<a href=\"https://colab.research.google.com/github/Jacofeldman/Metodos1_JacoboFeldman/blob/main/tarea4/Punto4.ipynb\" target=\"_parent\"><img src=\"https://colab.research.google.com/assets/colab-badge.svg\" alt=\"Open In Colab\"/></a>"
      ]
    },
    {
      "cell_type": "code",
      "execution_count": 1,
      "metadata": {
        "colab": {
          "base_uri": "https://localhost:8080/"
        },
        "id": "VPtxwJkTsv4P",
        "outputId": "d5941df6-50b6-40f4-c5c1-0394ea294219"
      },
      "outputs": [
        {
          "output_type": "stream",
          "name": "stdout",
          "text": [
            "El resultado de la multiplicación de A y B es:\n",
            "[4, -2, 1]\n",
            "[20, -7, 12]\n",
            "[-8, 13, 21]\n"
          ]
        }
      ],
      "source": [
        "import numpy as np\n",
        "\n",
        "def multiplicar_matrices(A, B):\n",
        "\n",
        "    filas_A, columnas_A = len(A), len(A[0])\n",
        "    filas_B, columnas_B = len(B), len(B[0])\n",
        "\n",
        "\n",
        "    if columnas_A != filas_B:\n",
        "        raise ValueError(\"El número de columnas de A debe ser igual al número de filas de B.\")\n",
        "\n",
        "\n",
        "    C = [[0 for _ in range(columnas_B)] for _ in range(filas_A)]\n",
        "\n",
        "    for i in range(filas_A):\n",
        "        for j in range(columnas_B):\n",
        "            for k in range(columnas_A):\n",
        "                C[i][j] += A[i][k] * B[k][j]\n",
        "\n",
        "    return C\n",
        "\n",
        "\n",
        "A = [\n",
        "    [1, 0, 0],\n",
        "    [5, 1, 0],\n",
        "    [-2, 3, 1]\n",
        "]\n",
        "\n",
        "B = [\n",
        "    [4, -2, 1],\n",
        "    [0, 3, 7],\n",
        "    [0, 0, 2]\n",
        "]\n",
        "\n",
        "\n",
        "resultado = multiplicar_matrices(A, B)\n",
        "\n",
        "\n",
        "print(\"El resultado de la multiplicación de A y B es:\")\n",
        "for fila in resultado:\n",
        "    print(fila)\n",
        "\n"
      ]
    }
  ]
}