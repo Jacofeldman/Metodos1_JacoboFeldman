{
  "nbformat": 4,
  "nbformat_minor": 0,
  "metadata": {
    "colab": {
      "provenance": [],
      "include_colab_link": true
    },
    "kernelspec": {
      "name": "python3",
      "display_name": "Python 3"
    },
    "language_info": {
      "name": "python"
    }
  },
  "cells": [
    {
      "cell_type": "markdown",
      "metadata": {
        "id": "view-in-github",
        "colab_type": "text"
      },
      "source": [
        "<a href=\"https://colab.research.google.com/github/Jacofeldman/Metodos1_JacoboFeldman/blob/main/tarea4/Punto13.ipynb\" target=\"_parent\"><img src=\"https://colab.research.google.com/assets/colab-badge.svg\" alt=\"Open In Colab\"/></a>"
      ]
    },
    {
      "cell_type": "code",
      "source": [
        "import numpy as np\n",
        "\n",
        "def jacobiano_central_orden4(func, x, h):\n",
        "    \"\"\"\n",
        "    Estima el Jacobiano de una función vectorial usando el operador de derivada central de orden O(h^4).\n",
        "\n",
        "    :param func: Función vectorial que toma un vector x y devuelve un vector.\n",
        "    :param x: Punto en el que se calcula el Jacobiano (vector).\n",
        "    :param h: Tamaño del paso.\n",
        "    :return: Matriz Jacobiana estimada.\n",
        "    \"\"\"\n",
        "    n = len(x)  # Dimensión del vector\n",
        "    m = len(func(x))  # Dimensión del vector de salida\n",
        "    J = np.zeros((m, n))\n",
        "\n",
        "    for i in range(n):\n",
        "        x_i_plus_h = np.array(x)\n",
        "        x_i_minus_h = np.array(x)\n",
        "        x_i_plus_2h = np.array(x)\n",
        "        x_i_minus_2h = np.array(x)\n",
        "\n",
        "        x_i_plus_h[i] += h\n",
        "        x_i_minus_h[i] -= h\n",
        "        x_i_plus_2h[i] += 2 * h\n",
        "        x_i_minus_2h[i] -= 2 * h\n",
        "\n",
        "        J[:, i] = (func(x_i_plus_2h) - 8 * func(x_i_plus_h) +\n",
        "                   8 * func(x_i_minus_h) - func(x_i_minus_2h)) / (12 * h)\n",
        "\n",
        "    return J\n",
        "def funciones_5_68(x):\n",
        "    \"\"\"Evalúa las ecuaciones del sistema (5.68).\"\"\"\n",
        "    x1, x2, x3 = x\n",
        "    f1 = 6 * x1 - 2 * np.cos(x2 * x3) - 1\n",
        "    f2 = 9 * x2 - np.sqrt(x1**2 + np.sin(x3) + 1.06) + 0.9\n",
        "    f3 = 60 * x3 + 3 * np.exp(-x1 * x2) + 10 * np.pi - 3\n",
        "    return np.array([f1, f2, f3])\n",
        "\n",
        "# Punto en el que se estima el Jacobiano\n",
        "x0 = np.array([0.5, 0.5, 0.5])\n",
        "h = 0.01\n",
        "\n",
        "# Estimar el Jacobiano usando el operador de orden O(h^4)\n",
        "jacobiano_orden4 = jacobiano_central_orden4(funciones_5_68, x0, h)\n",
        "print(\"Jacobiano (orden O(h^4)) en x = (0.5, 0.5, 0.5):\")\n",
        "print(jacobiano_orden4)\n",
        "def jacobiano_central_orden2(func, x, h):\n",
        "    \"\"\"\n",
        "    Estima el Jacobiano de una función vectorial usando el operador de derivada central de orden O(h^2).\n",
        "\n",
        "    :param func: Función vectorial que toma un vector x y devuelve un vector.\n",
        "    :param x: Punto en el que se calcula el Jacobiano (vector).\n",
        "    :param h: Tamaño del paso.\n",
        "    :return: Matriz Jacobiana estimada.\n",
        "    \"\"\"\n",
        "    n = len(x)  # Dimensión del vector\n",
        "    m = len(func(x))  # Dimensión del vector de salida\n",
        "    J = np.zeros((m, n))\n",
        "\n",
        "    for i in range(n):\n",
        "        x_i_plus_h = np.array(x)\n",
        "        x_i_minus_h = np.array(x)\n",
        "\n",
        "        x_i_plus_h[i] += h\n",
        "        x_i_minus_h[i] -= h\n",
        "\n",
        "        J[:, i] = (func(x_i_plus_h) - func(x_i_minus_h)) / (2 * h)\n",
        "\n",
        "    return J\n",
        "\n",
        "# Estimar el Jacobiano usando el operador de orden O(h^2)\n",
        "jacobiano_orden2 = jacobiano_central_orden2(funciones_5_68, x0, h)\n",
        "print(\"\\nJacobiano (orden O(h^2)) en x = (0.5, 0.5, 0.5):\")\n",
        "print(jacobiano_orden2)\n"
      ],
      "metadata": {
        "colab": {
          "base_uri": "https://localhost:8080/"
        },
        "id": "yl13eS3drrVC",
        "outputId": "a2a29e6f-6b7b-4d31-bd73-9385605a7cd5"
      },
      "execution_count": 17,
      "outputs": [
        {
          "output_type": "stream",
          "name": "stdout",
          "text": [
            "Jacobiano (orden O(h^4)) en x = (0.5, 0.5, 0.5):\n",
            "[[ -6.          -0.24740396  -0.24740396]\n",
            " [  0.37377753  -9.           0.32802064]\n",
            " [  1.16820117   1.16820117 -60.        ]]\n",
            "\n",
            "Jacobiano (orden O(h^2)) en x = (0.5, 0.5, 0.5):\n",
            "[[ 6.          0.24740293  0.24740293]\n",
            " [-0.37376854  9.         -0.32801836]\n",
            " [-1.16820604 -1.16820604 60.        ]]\n"
          ]
        }
      ]
    },
    {
      "cell_type": "code",
      "source": [
        "# Comparar precisión para diferentes valores de h\n",
        "h_values = [0.1, 0.05, 0.01, 0.005]\n",
        "for h in h_values:\n",
        "    jacobiano_orden4 = jacobiano_central_orden4(funciones_5_68, x0, h)\n",
        "    jacobiano_orden2 = jacobiano_central_orden2(funciones_5_68, x0, h)\n",
        "\n",
        "    error = np.linalg.norm(jacobiano_orden4 - jacobiano_orden2)\n",
        "    print(f\"Error entre Jacobiano de orden O(h^4) y O(h^2) para h={h}: {error:.6e}\")\n"
      ],
      "metadata": {
        "colab": {
          "base_uri": "https://localhost:8080/"
        },
        "id": "y98ONieAsCDb",
        "outputId": "6feb53ba-8f76-4a65-989b-2b77df75d787"
      },
      "execution_count": 18,
      "outputs": [
        {
          "output_type": "stream",
          "name": "stdout",
          "text": [
            "Error entre Jacobiano de orden O(h^4) y O(h^2) para h=0.1: 1.219852e+02\n",
            "Error entre Jacobiano de orden O(h^4) y O(h^2) para h=0.05: 1.219852e+02\n",
            "Error entre Jacobiano de orden O(h^4) y O(h^2) para h=0.01: 1.219852e+02\n",
            "Error entre Jacobiano de orden O(h^4) y O(h^2) para h=0.005: 1.219852e+02\n"
          ]
        }
      ]
    }
  ]
}