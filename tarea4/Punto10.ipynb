{
  "nbformat": 4,
  "nbformat_minor": 0,
  "metadata": {
    "colab": {
      "provenance": [],
      "include_colab_link": true
    },
    "kernelspec": {
      "name": "python3",
      "display_name": "Python 3"
    },
    "language_info": {
      "name": "python"
    }
  },
  "cells": [
    {
      "cell_type": "markdown",
      "metadata": {
        "id": "view-in-github",
        "colab_type": "text"
      },
      "source": [
        "<a href=\"https://colab.research.google.com/github/Jacofeldman/Metodos1_JacoboFeldman/blob/main/tarea4/Punto10.ipynb\" target=\"_parent\"><img src=\"https://colab.research.google.com/assets/colab-badge.svg\" alt=\"Open In Colab\"/></a>"
      ]
    },
    {
      "cell_type": "code",
      "source": [
        "import numpy as np\n",
        "\n",
        "def calcular_theta(A, MI, MJ):\n",
        "    \"\"\"Calcula el ángulo theta para la rotación.\"\"\"\n",
        "    if A[MI, MI] == A[MJ, MJ]:\n",
        "        return np.pi / 4  # 45 grados\n",
        "    return 0.5 * np.arctan(2 * A[MI, MJ] / (A[MI, MI] - A[MJ, MJ]))\n",
        "\n",
        "def crear_matriz_rotacion(theta, MI, MJ, n):\n",
        "    \"\"\"Crea la matriz de rotación R para los índices MI y MJ.\"\"\"\n",
        "    R = np.eye(n)\n",
        "    R[MI, MI] = np.cos(theta)\n",
        "    R[MJ, MJ] = np.cos(theta)\n",
        "    R[MI, MJ] = -np.sin(theta)\n",
        "    R[MJ, MI] = np.sin(theta)\n",
        "    return R\n",
        "\n",
        "def metodo_jacobi_modificado(A, itmax=100, tolerancia=1e-10):\n",
        "    \"\"\"Implementa el método de Jacobi para diagonalizar matrices simétricas.\"\"\"\n",
        "    n = A.shape[0]\n",
        "    V = np.eye(n)\n",
        "\n",
        "    for it in range(itmax):\n",
        "        # Buscar el elemento fuera de la diagonal más grande\n",
        "        mayor, MI, MJ = 0, 0, 0\n",
        "        for i in range(n):\n",
        "            for j in range(i + 1, n):\n",
        "                if abs(A[i, j]) > abs(mayor):\n",
        "                    mayor, MI, MJ = A[i, j], i, j\n",
        "\n",
        "        # Verificar convergencia\n",
        "        if abs(mayor) < tolerancia:\n",
        "            break\n",
        "\n",
        "        # Calcular el ángulo de rotación\n",
        "        theta = calcular_theta(A, MI, MJ)\n",
        "        R = crear_matriz_rotacion(theta, MI, MJ, n)\n",
        "\n",
        "        # Actualizar la matriz A y los vectores propios V\n",
        "        A = R.T @ A @ R\n",
        "        V = V @ R\n",
        "\n",
        "    # Extraer los valores propios de la diagonal de A\n",
        "    valores = np.diag(A)\n",
        "    vectores = V\n",
        "\n",
        "    return valores, vectores, it\n",
        "\n",
        "# Matriz de ejemplo\n",
        "A = np.array([[4, 1, 1],\n",
        "              [1, 3, 2],\n",
        "              [1, 2, 5]])\n",
        "\n",
        "# Ejecutar el método de Jacobi\n",
        "valores_jacobi, vectores_jacobi, iteraciones = metodo_jacobi_modificado(A)\n",
        "\n",
        "# Mostrar los resultados del método de Jacobi\n",
        "print(\"Valores propios (método de Jacobi):\", valores_jacobi)\n",
        "print(\"Vectores propios (método de Jacobi):\\n\", vectores_jacobi)\n",
        "print(\"Número de iteraciones:\", iteraciones)\n",
        "\n",
        "# Comparar con los resultados de numpy\n",
        "valores_numpy, vectores_numpy = np.linalg.eig(A)\n",
        "\n",
        "# Mostrar los resultados de NumPy\n",
        "print(\"\\nValores propios (NumPy):\", valores_numpy)\n",
        "print(\"Vectores propios (NumPy):\\n\", vectores_numpy)\n"
      ],
      "metadata": {
        "colab": {
          "base_uri": "https://localhost:8080/"
        },
        "id": "nbugax7_nHbA",
        "outputId": "497fcd49-aae8-4d90-b9c8-9ca532b3fac5"
      },
      "execution_count": 15,
      "outputs": [
        {
          "output_type": "stream",
          "name": "stdout",
          "text": [
            "Valores propios (método de Jacobi): [3.39729507 1.70759841 6.89510652]\n",
            "Vectores propios (método de Jacobi):\n",
            " [[ 0.88573564 -0.17059871  0.43170413]\n",
            " [-0.07589338  0.86427949  0.49725362]\n",
            " [-0.45794385 -0.47319874  0.75257583]]\n",
            "Número de iteraciones: 8\n",
            "\n",
            "Valores propios (NumPy): [6.89510652 3.39729507 1.70759841]\n",
            "Vectores propios (NumPy):\n",
            " [[ 0.43170413  0.88573564  0.17059871]\n",
            " [ 0.49725362 -0.07589338 -0.86427949]\n",
            " [ 0.75257583 -0.45794385  0.47319874]]\n"
          ]
        }
      ]
    }
  ]
}