{
  "nbformat": 4,
  "nbformat_minor": 0,
  "metadata": {
    "colab": {
      "provenance": [],
      "authorship_tag": "ABX9TyNK1+beJJsKvJQ1zmSYG5Gh",
      "include_colab_link": true
    },
    "kernelspec": {
      "name": "python3",
      "display_name": "Python 3"
    },
    "language_info": {
      "name": "python"
    }
  },
  "cells": [
    {
      "cell_type": "markdown",
      "metadata": {
        "id": "view-in-github",
        "colab_type": "text"
      },
      "source": [
        "<a href=\"https://colab.research.google.com/github/Jacofeldman/Metodos1_JacoboFeldman/blob/main/Tarea_2/Lagrange4.ipynb\" target=\"_parent\"><img src=\"https://colab.research.google.com/assets/colab-badge.svg\" alt=\"Open In Colab\"/></a>"
      ]
    },
    {
      "cell_type": "code",
      "execution_count": 37,
      "metadata": {
        "colab": {
          "base_uri": "https://localhost:8080/",
          "height": 465
        },
        "id": "y1n_IOD07bF6",
        "outputId": "4edbedad-8bdc-4ac2-b4e0-e4ea4abb3dad"
      },
      "outputs": [
        {
          "output_type": "stream",
          "name": "stdout",
          "text": [
            "Velocidad inicial: 9.97223738286742 m/s\n",
            "Ángulo de lanzamiento: 77.84338427990279 grados\n"
          ]
        },
        {
          "output_type": "display_data",
          "data": {
            "text/plain": [
              "<Figure size 640x480 with 1 Axes>"
            ],
            "image/png": "[encoded data removed]"
          },
          "metadata": {}
        }
      ],
      "source": [
        "import numpy as np\n",
        "import matplotlib.pyplot as plt\n",
        "import sympy as sym\n",
        "import math\n",
        "from scipy.optimize import curve_fit\n",
        "\n",
        "X =np.array([1.4,3.5,5.6])\n",
        "Y =np.array([0.400795493181973,0.594128102489774,0.29802795523938164])\n",
        "g= -9.8\n",
        "# Función a ajustar (movimiento parabólico)\n",
        "def model(t, v0x, v0y, x0, y0):\n",
        "    x = x0 + v0x*t\n",
        "    y = y0 + v0y*t + 0.5*g*t**2\n",
        "    return np.concatenate((x, y))\n",
        "\n",
        "# Crear el vector de tiempo\n",
        "t = np.arange(len(X))\n",
        "\n",
        "# Ajuste de curva (ahora ajustamos dos ecuaciones simultáneamente)\n",
        "popt, pcov = curve_fit(model, t,np.concatenate((X, Y)))\n",
        "v0x_fit, v0y_fit, x0_fit, y0_fit = popt\n",
        "\n",
        "# Calcular la velocidad inicial y el ángulo\n",
        "v0 = np.sqrt(v0x_fit**2 + v0y_fit**2)\n",
        "theta = np.arctan2(v0y_fit, v0x_fit)\n",
        "\n",
        "# Imprimir resultados\n",
        "print(\"Velocidad inicial:\", v0, \"m/s\")\n",
        "print(\"Ángulo de lanzamiento:\", np.degrees(theta), \"grados\")\n",
        "plt.scatter(X,Y)\n",
        "plt.show()"
      ]
    }
  ]
}