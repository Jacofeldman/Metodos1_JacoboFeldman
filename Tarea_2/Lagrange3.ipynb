{
  "nbformat": 4,
  "nbformat_minor": 0,
  "metadata": {
    "colab": {
      "provenance": [],
      "authorship_tag": "ABX9TyMioY/FzjxookYweUunR6ou",
      "include_colab_link": true
    },
    "kernelspec": {
      "name": "python3",
      "display_name": "Python 3"
    },
    "language_info": {
      "name": "python"
    }
  },
  "cells": [
    {
      "cell_type": "markdown",
      "metadata": {
        "id": "view-in-github",
        "colab_type": "text"
      },
      "source": [
        "<a href=\"https://colab.research.google.com/github/Jacofeldman/Metodos1_JacoboFeldman/blob/main/Tarea_2/Lagrange3.ipynb\" target=\"_parent\"><img src=\"https://colab.research.google.com/assets/colab-badge.svg\" alt=\"Open In Colab\"/></a>"
      ]
    },
    {
      "cell_type": "code",
      "execution_count": 30,
      "metadata": {
        "colab": {
          "base_uri": "https://localhost:8080/"
        },
        "id": "y1n_IOD07bF6",
        "outputId": "14a76587-46ed-4b82-a9ff-558fdad451be"
      },
      "outputs": [
        {
          "output_type": "stream",
          "name": "stdout",
          "text": [
            "0.0011889239680691333\n",
            "10.675889328063242\n"
          ]
        }
      ],
      "source": [
        "import numpy as np\n",
        "import matplotlib.pyplot as plt\n",
        "import sympy as sym\n",
        "import math\n",
        "\n",
        "X = np.array([100,121,144])\n",
        "Y=  np.array([10,11,12])\n",
        "x=114\n",
        "\n",
        "\n",
        "\n",
        "def lagrange(x,X,y):\n",
        "\n",
        "    n = len(X)\n",
        "    y = 0\n",
        "    for i in range(n):\n",
        "        term = Y[i]\n",
        "        for j in range(n):\n",
        "            if j != i:\n",
        "                term *= (x - X[j]) / (X[i] - X[j])\n",
        "        y += term\n",
        "    return y\n",
        "y_interp=lagrange(x,X,Y)\n",
        "error_aprox = abs(y_interp - np.sqrt(x))\n",
        "print(error_aprox)\n",
        "print(y_interp)"
      ]
    }
  ]
}