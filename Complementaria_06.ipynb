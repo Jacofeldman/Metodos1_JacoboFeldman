{
  "cells": [
    {
      "cell_type": "markdown",
      "metadata": {
        "id": "view-in-github",
        "colab_type": "text"
      },
      "source": [
        "<a href=\"https://colab.research.google.com/github/Jacofeldman/Metodos1_JacoboFeldman/blob/Complementaria/Complementaria_06.ipynb\" target=\"_parent\"><img src=\"https://colab.research.google.com/assets/colab-badge.svg\" alt=\"Open In Colab\"/></a>"
      ]
    },
    {
      "cell_type": "markdown",
      "id": "c7528cfa-b22b-441e-8180-2ee23b776fe5",
      "metadata": {
        "id": "c7528cfa-b22b-441e-8180-2ee23b776fe5"
      },
      "source": [
        "> Complementaria métodos computacionales 1\n",
        ">\n",
        "> Semana 06\n",
        "\n",
        "***"
      ]
    },
    {
      "cell_type": "markdown",
      "id": "3d7309f4-9f67-4563-a255-b9deb4ec76ba",
      "metadata": {
        "id": "3d7309f4-9f67-4563-a255-b9deb4ec76ba"
      },
      "source": [
        "La función gaussiana de media $\\mu$ y desviación estándar $\\sigma$ viene dada por:\n",
        "\n",
        "$$\n",
        "f(x;\\mu,\\sigma) = \\frac{1}{\\sigma\\sqrt{2\\pi}} \\exp\\left(-\\frac12 \\left(\\frac{x-\\mu}{\\sigma}\\right)^2\\right)  \n",
        "$$\n",
        "\n",
        "y sea su integral incompleta dada por\n",
        "\n",
        "$$\n",
        "g(a;\\mu,\\sigma) = \\int_{-\\infty}^{a} f(x;\\mu,\\sigma) \\,\\mathrm{d}x\n",
        "$$"
      ]
    },
    {
      "cell_type": "markdown",
      "id": "ce63e3dd-7e4a-4b24-a418-5d6082e054af",
      "metadata": {
        "id": "ce63e3dd-7e4a-4b24-a418-5d6082e054af"
      },
      "source": [
        "# 1) Cuadratura de Laguerre\n",
        "\n",
        "**1.0pt**\n",
        "Defina una función que calcule la función $g$. Use los coeficientes dados por `np.polynomial.laguerre.laggauss` para realizar la integración, con la transformación adecuada de coordenadas.\n",
        "\n",
        "Para probar su código, $g(0.1,0.2,0.3) \\approx 0.369441$\n",
        "\n",
        "**1.0pt**\n",
        "Haga lo mismo con la cuadratura de Legendre, usando la propiedad de que la integral completa $g(\\infty;\\mu,\\sigma)=1$. Los resultados deberían ser equivalentes."
      ]
    },
    {
      "cell_type": "code",
      "execution_count": 43,
      "id": "1a6fac24-081a-4d94-90bc-68c4caaeabd8",
      "metadata": {
        "colab": {
          "base_uri": "https://localhost:8080/"
        },
        "id": "1a6fac24-081a-4d94-90bc-68c4caaeabd8",
        "outputId": "6f58e517-b7dd-4942-dbdd-06202cceb4d4"
      },
      "outputs": [
        {
          "output_type": "stream",
          "name": "stdout",
          "text": [
            "El valor de la integral incompleta es: 0.2947001051570876\n"
          ]
        }
      ],
      "source": [
        "import numpy as np\n",
        "\n",
        "\n",
        "\n",
        "def integral_incompleta(a, mu, sigma,n_points=10):\n",
        "    nodes, weights = np.polynomial.laguerre.laggauss(n_points)\n",
        "    def gaussiana(x, mu, sigma):\n",
        "        return (1 / (sigma * np.sqrt(2 * np.pi))) * np.exp(-0.5 * ((x - mu) / sigma) ** 2)\n",
        "\n",
        "    def integrand(t):\n",
        "        x = (a - t)\n",
        "        return gaussiana(x, mu, sigma)*np.exp(x)\n",
        "\n",
        "\n",
        "    integral = np.sum(weights * integrand(nodes))\n",
        "\n",
        "    return integral\n",
        "\n",
        "\n",
        "\n",
        "g = integral_incompleta(0.1, 0.2, 0.3)\n",
        "print(f'El valor de la integral incompleta es: {g}')\n",
        "\n"
      ]
    },
    {
      "cell_type": "code",
      "source": [
        "import numpy as np\n",
        "from scipy.special import roots_legendre\n",
        "\n",
        "def integral_incompleta_legendre(a, mu, sigma, n_points=100):\n",
        "    # Coeficientes de los nodos y pesos de Legendre\n",
        "    nodes, weights = roots_legendre(n_points)\n",
        "\n",
        "    # Función gaussiana\n",
        "    def gaussiana(x, mu, sigma):\n",
        "        return (1 / (sigma * np.sqrt(2 * np.pi))) * np.exp(-0.5 * ((x - mu) / sigma) ** 2)\n",
        "\n",
        "    # Transformación para la cuadratura de Legendre\n",
        "    def integrand(t):\n",
        "        # Transformar el intervalo [-1, 1] a (-∞, a]\n",
        "        x = mu + sigma * np.sqrt(2) * (t + 1) / 2\n",
        "        return gaussiana(x, mu, sigma) * (sigma * np.sqrt(2) / 2)\n",
        "\n",
        "    # Aplicar la cuadratura de Legendre\n",
        "    integral = np.sum(weights * integrand(nodes))\n",
        "\n",
        "    return integral\n",
        "\n",
        "# Probar la función con los valores dados\n",
        "g_legendre = integral_incompleta_legendre(0.1, 0.2, 0.3)\n",
        "print(f'El valor de la integral incompleta usando Legendre es: {g_legendre}')\n"
      ],
      "metadata": {
        "colab": {
          "base_uri": "https://localhost:8080/"
        },
        "id": "2oq_QUJ-k5dX",
        "outputId": "2c7270f9-689d-4920-d799-b26e309512ed"
      },
      "id": "2oq_QUJ-k5dX",
      "execution_count": 25,
      "outputs": [
        {
          "output_type": "stream",
          "name": "stdout",
          "text": [
            "El valor de la integral incompleta usando Legendre es: 0.42135039647485756\n"
          ]
        }
      ]
    },
    {
      "cell_type": "markdown",
      "id": "f8c61307-b239-40d5-9c4a-d841471779d0",
      "metadata": {
        "id": "f8c61307-b239-40d5-9c4a-d841471779d0"
      },
      "source": [
        "**0.5pt**: Grafique $g(a;0,\\sigma)$ vs $a$, para $a\\in[-5,5]$ y varios sigmas $\\sigma\\in[0.1,5]$, identificando cada curva con un color que represente el valor de $\\sigma$. Ponga una barra de color como leyenda."
      ]
    },
    {
      "cell_type": "code",
      "source": [
        "import numpy as np\n",
        "import matplotlib.pyplot as plt\n",
        "from scipy.special import roots_legendre\n",
        "\n",
        "# Función para calcular la integral incompleta usando la cuadratura de Legendre\n",
        "def integral_incompleta_legendre(a, mu, sigma, n_points=100):\n",
        "    # Coeficientes de los nodos y pesos de Legendre\n",
        "    nodes, weights = roots_legendre(n_points)\n",
        "\n",
        "    # Función gaussiana\n",
        "    def gaussiana(x, mu, sigma):\n",
        "        return (1 / (sigma * np.sqrt(2 * np.pi))) * np.exp(-0.5 * ((x - mu) / sigma) ** 2)\n",
        "\n",
        "    # Transformación para la cuadratura de Legendre\n",
        "    def integrand(t):\n",
        "        # Transformar el intervalo [-1, 1] a (-∞, a]\n",
        "        x = mu + sigma * np.sqrt(2) * (t + 1) / 2\n",
        "        return gaussiana(x, mu, sigma) * (sigma * np.sqrt(2) / 2)\n",
        "\n",
        "    # Aplicar la cuadratura de Legendre\n",
        "    integral = np.sum(weights * integrand(nodes))\n",
        "\n",
        "    return integral\n",
        "\n",
        "# Parámetros\n",
        "a_values = np.linspace(-5, 5, 500)\n",
        "sigma_values = [0.1, 0.5, 1, 2, 5]\n",
        "\n",
        "# Crear la gráfica\n",
        "plt.figure(figsize=(10, 6))\n",
        "\n",
        "# Colores para la leyenda\n",
        "colors = plt.cm.viridis(np.linspace(0, 1, len(sigma_values)))\n",
        "\n",
        "for sigma, color in zip(sigma_values, colors):\n",
        "    g_values = [integral_incompleta_legendre(a, 0, sigma) for a in a_values]\n",
        "    plt.plot(a_values, g_values, color=color, label=f'σ = {sigma}')\n",
        "\n",
        "# Añadir la barra de color\n",
        "sm = plt.cm.ScalarMappable(cmap='viridis', norm=plt.Normalize(vmin=min(sigma_values), vmax=max(sigma_values)))\n",
        "sm.set_array([])\n",
        "plt.colorbar(sm, label='σ')\n",
        "\n",
        "# Etiquetas y título\n",
        "plt.xlabel('a')\n",
        "plt.ylabel('g(a; 0, σ)')\n",
        "plt.title('Integral incompleta g(a; 0, σ) vs a para varios σ')\n",
        "plt.legend(title='Valores de σ')\n",
        "plt.grid(True)\n",
        "plt.show()\n"
      ],
      "metadata": {
        "colab": {
          "base_uri": "https://localhost:8080/",
          "height": 619
        },
        "id": "7NzKsZiDlE0R",
        "outputId": "e12ef3ef-783d-48b8-8670-65583eefb0b8"
      },
      "id": "7NzKsZiDlE0R",
      "execution_count": 26,
      "outputs": [
        {
          "output_type": "stream",
          "name": "stderr",
          "text": [
            "<ipython-input-26-f8871e439bdf>:42: MatplotlibDeprecationWarning: Unable to determine Axes to steal space for Colorbar. Using gca(), but will raise in the future. Either provide the *cax* argument to use as the Axes for the Colorbar, provide the *ax* argument to steal space from it, or add *mappable* to an Axes.\n",
            "  plt.colorbar(sm, label='σ')\n"
          ]
        },
        {
          "output_type": "display_data",
          "data": {
            "text/plain": [
              "<Figure size 1000x600 with 2 Axes>"
            ],
            "image/png": "[encoded data removed]"
          },
          "metadata": {}
        }
      ]
    },
    {
      "cell_type": "markdown",
      "id": "53273cd2-751c-4dd5-b28e-d076e60e9a69",
      "metadata": {
        "id": "53273cd2-751c-4dd5-b28e-d076e60e9a69"
      },
      "source": [
        "# 2) Otros métodos\n",
        "\n",
        "Integre, con $\\sigma=1$,\n",
        "\n",
        "$$\n",
        "H = \\int_{- \\sigma}^{ \\sigma} f(x;0,\\sigma) \\mathrm{d}x\n",
        "$$\n",
        "usando trapezoide y Simpson, para una cantidad fija de puntos $n$.\n",
        "\n",
        "Exprese este número $H$ en términos de su función $g$. Compare el resultado de trapezoide y Simpson para varios $n$ y comente el comportamiento que observa."
      ]
    },
    {
      "cell_type": "code",
      "execution_count": null,
      "id": "418540d4-7bbc-409f-856e-b1a7c1f462c2",
      "metadata": {
        "colab": {
          "base_uri": "https://localhost:8080/"
        },
        "id": "418540d4-7bbc-409f-856e-b1a7c1f462c2",
        "outputId": "18c5678c-f678-4b6c-9737-c1dc6cb9ded1"
      },
      "outputs": [
        {
          "output_type": "stream",
          "name": "stdout",
          "text": [
            "n = 10\n",
            "Método de Trapecio: 0.680695\n",
            "Método de Simpson: 0.682759\n",
            "g(a) - g(-a): 0.682689\n",
            "---\n",
            "n = 50\n",
            "Método de Trapecio: 0.682622\n",
            "Método de Simpson: 0.682690\n",
            "g(a) - g(-a): 0.682689\n",
            "---\n",
            "n = 100\n",
            "Método de Trapecio: 0.682673\n",
            "Método de Simpson: 0.682689\n",
            "g(a) - g(-a): 0.682689\n",
            "---\n",
            "n = 500\n",
            "Método de Trapecio: 0.682689\n",
            "Método de Simpson: 0.682689\n",
            "g(a) - g(-a): 0.682689\n",
            "---\n",
            "n = 1000\n",
            "Método de Trapecio: 0.682689\n",
            "Método de Simpson: 0.682689\n",
            "g(a) - g(-a): 0.682689\n",
            "---\n"
          ]
        },
        {
          "output_type": "stream",
          "name": "stderr",
          "text": [
            "<ipython-input-9-c6dc2317962e>:23: DeprecationWarning: 'scipy.integrate.trapz' is deprecated in favour of 'scipy.integrate.trapezoid' and will be removed in SciPy 1.14.0\n",
            "  return trapz(y, x)\n",
            "<ipython-input-9-c6dc2317962e>:28: DeprecationWarning: 'scipy.integrate.simps' is deprecated in favour of 'scipy.integrate.simpson' and will be removed in SciPy 1.14.0\n",
            "  return simps(y, x)\n"
          ]
        }
      ],
      "source": [
        "import numpy as np\n",
        "from scipy.integrate import simps, trapz\n",
        "\n",
        "\n",
        "def gaussiana(x, mu, sigma):\n",
        "    return (1 / (sigma * np.sqrt(2 * np.pi))) * np.exp(-0.5 * ((x - mu) / sigma) ** 2)\n",
        "\n",
        "\n",
        "def g(a, mu, sigma):\n",
        "    from scipy.special import erf\n",
        "    return 0.5 * (1 + erf((a - mu) / (np.sqrt(2) * sigma)))\n",
        "\n",
        "\n",
        "sigma = 1\n",
        "mu = 0\n",
        "a = sigma\n",
        "b = -sigma\n",
        "\n",
        "\n",
        "def trapezoide_integration(n, mu, sigma):\n",
        "    x = np.linspace(b, a, n)\n",
        "    y = gaussiana(x, mu, sigma)\n",
        "    return trapz(y, x)\n",
        "\n",
        "def simpson_integration(n, mu, sigma):\n",
        "    x = np.linspace(b, a, n)\n",
        "    y = gaussiana(x, mu, sigma)\n",
        "    return simps(y, x)\n",
        "\n",
        "\n",
        "H_g = g(sigma, mu, sigma) - g(-sigma, mu, sigma)\n",
        "\n",
        "\n",
        "n_values = [10, 50, 100, 500, 1000]\n",
        "results_trapz = []\n",
        "results_simps = []\n",
        "\n",
        "for n in n_values:\n",
        "    H_trapz = trapezoide_integration(n, mu, sigma)\n",
        "    H_simps = simpson_integration(n, mu, sigma)\n",
        "\n",
        "    results_trapz.append(H_trapz)\n",
        "    results_simps.append(H_simps)\n",
        "\n",
        "    print(f\"n = {n}\")\n",
        "    print(f\"Método de Trapecio: {H_trapz:.6f}\")\n",
        "    print(f\"Método de Simpson: {H_simps:.6f}\")\n",
        "    print(f\"g(a) - g(-a): {H_g:.6f}\")\n",
        "    print(\"---\")\n",
        "\n",
        "\n"
      ]
    },
    {
      "cell_type": "markdown",
      "id": "978d374b-bf96-4a92-a5ac-d6d2c9c11da8",
      "metadata": {
        "id": "978d374b-bf96-4a92-a5ac-d6d2c9c11da8"
      },
      "source": [
        "# 3) Intervalos de confianza\n",
        "\n",
        "Defina una función \"cumulant_function\" que dado $p$, usando el método de Newton, con las funciones de los puntos anteriores, encuentre $\\beta$ tal que\n",
        "\n",
        "$$\n",
        "p = \\int_{-\\beta \\sigma}^{\\beta \\sigma } f(x;0,\\sigma) \\mathrm{d}x\n",
        "$$\n",
        "\n",
        "De nuevo, para $\\sigma=1$.\n",
        "\n",
        "Grafique $\\beta$ como función de $p\\in(0,1)$"
      ]
    },
    {
      "cell_type": "code",
      "execution_count": null,
      "id": "e73a6642-57f6-47ed-aacf-20c887fb1dde",
      "metadata": {
        "id": "e73a6642-57f6-47ed-aacf-20c887fb1dde"
      },
      "outputs": [],
      "source": []
    }
  ],
  "metadata": {
    "kernelspec": {
      "display_name": "Python 3 (ipykernel)",
      "language": "python",
      "name": "python3"
    },
    "language_info": {
      "codemirror_mode": {
        "name": "ipython",
        "version": 3
      },
      "file_extension": ".py",
      "mimetype": "text/x-python",
      "name": "python",
      "nbconvert_exporter": "python",
      "pygments_lexer": "ipython3",
      "version": "3.12.5"
    },
    "colab": {
      "provenance": [],
      "include_colab_link": true
    }
  },
  "nbformat": 4,
  "nbformat_minor": 5
}