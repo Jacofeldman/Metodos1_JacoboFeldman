{
  "nbformat": 4,
  "nbformat_minor": 0,
  "metadata": {
    "colab": {
      "provenance": [],
      "include_colab_link": true
    },
    "kernelspec": {
      "name": "python3",
      "display_name": "Python 3"
    },
    "language_info": {
      "name": "python"
    }
  },
  "cells": [
    {
      "cell_type": "markdown",
      "metadata": {
        "id": "view-in-github",
        "colab_type": "text"
      },
      "source": [
        "<a href=\"https://colab.research.google.com/github/Jacofeldman/Metodos1_JacoboFeldman/blob/main/Tarea3/Integral_9.ipynb\" target=\"_parent\"><img src=\"https://colab.research.google.com/assets/colab-badge.svg\" alt=\"Open In Colab\"/></a>"
      ]
    },
    {
      "cell_type": "code",
      "source": [
        "import sympy as sp\n",
        "# Definir la variable x y los puntos de interpolación\n",
        "x = sp.symbols('x')\n",
        "h = sp.symbols('h', positive=True)\n",
        "\n",
        "# Puntos de interpolación {0, h, 2h, 3h}\n",
        "x0, x1, x2, x3 = 0, h, 2*h, 3*h\n",
        "\n",
        "# Definir las funciones cardinales de Lagrange\n",
        "L0 = ((x - x1)*(x - x2)*(x - x3)) / ((x0 - x1)*(x0 - x2)*(x0 - x3))\n",
        "L1 = ((x - x0)*(x - x2)*(x - x3)) / ((x1 - x0)*(x1 - x2)*(x1 - x3))\n",
        "L2 = ((x - x0)*(x - x1)*(x - x3)) / ((x2 - x0)*(x2 - x1)*(x2 - x3))\n",
        "L3 = ((x - x0)*(x - x1)*(x - x2)) / ((x3 - x0)*(x3 - x1)*(x3 - x2))\n",
        "\n",
        "# Simplificar las funciones cardinales\n",
        "L0_simplified = sp.simplify(L0)\n",
        "L1_simplified = sp.simplify(L1)\n",
        "L2_simplified = sp.simplify(L2)\n",
        "L3_simplified = sp.simplify(L3)\n",
        "\n",
        "print(L0_simplified, L1_simplified, L2_simplified, L3_simplified)\n",
        "# Definir variables simbólicas\n",
        "a, b = sp.symbols('a b')\n",
        "\n",
        "# Definir h\n",
        "h = (b - a) / 3\n",
        "\n",
        "# Calcular los puntos intermedios\n",
        "x1 = a + h\n",
        "x2 = a + 2 * h\n",
        "\n",
        "# Simplificar las expresiones\n",
        "x1_simplified = sp.simplify(x1)\n",
        "x2_simplified = sp.simplify(x2)\n",
        "\n",
        "print(x1_simplified, x2_simplified)"
      ],
      "metadata": {
        "colab": {
          "base_uri": "https://localhost:8080/"
        },
        "id": "z5gXZVIP-imH",
        "outputId": "e0f635a5-2061-4b95-fa2a-b39ffee0bc4c"
      },
      "execution_count": 5,
      "outputs": [
        {
          "output_type": "stream",
          "name": "stdout",
          "text": [
            "(h - x)*(2*h - x)*(3*h - x)/(6*h**3) x*(2*h - x)*(3*h - x)/(2*h**3) -x*(h - x)*(3*h - x)/(2*h**3) x*(h - x)*(2*h - x)/(6*h**3)\n",
            "2*a/3 + b/3 a/3 + 2*b/3\n"
          ]
        }
      ]
    }
  ]
}