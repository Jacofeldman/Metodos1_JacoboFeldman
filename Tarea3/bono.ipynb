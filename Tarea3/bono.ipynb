{
  "nbformat": 4,
  "nbformat_minor": 0,
  "metadata": {
    "colab": {
      "provenance": [],
      "authorship_tag": "ABX9TyMFCc7n/S42P8HUbsQNBKnS",
      "include_colab_link": true
    },
    "kernelspec": {
      "name": "python3",
      "display_name": "Python 3"
    },
    "language_info": {
      "name": "python"
    }
  },
  "cells": [
    {
      "cell_type": "markdown",
      "metadata": {
        "id": "view-in-github",
        "colab_type": "text"
      },
      "source": [
        "<a href=\"https://colab.research.google.com/github/Jacofeldman/Metodos1_JacoboFeldman/blob/main/Tarea3/bono.ipynb\" target=\"_parent\"><img src=\"https://colab.research.google.com/assets/colab-badge.svg\" alt=\"Open In Colab\"/></a>"
      ]
    },
    {
      "cell_type": "code",
      "source": [
        "def integrand(x):\n",
        "    return x**10 - 10*x**8 + 33*x**6 - 40*x**4 + 16*x**2\n",
        "\n",
        "def adaptive_quadrature(f, a, b, tol, depth=0, max_depth=10):\n",
        "    c = (a + b) / 2\n",
        "    h = b - a\n",
        "    integral1 = (h / 2) * (f(a) + f(b))\n",
        "    integral2 = (h / 4) * (f(a) + 2 * f(c) + f(b))\n",
        "\n",
        "    error = abs(integral2 - integral1)\n",
        "\n",
        "    if error < tol or depth >= max_depth:\n",
        "        return integral2\n",
        "\n",
        "    left_integral = adaptive_quadrature(f, a, c, tol / 2, depth + 1, max_depth)\n",
        "    right_integral = adaptive_quadrature(f, c, b, tol / 2, depth + 1, max_depth)\n",
        "\n",
        "    return left_integral + right_integral\n",
        "\n",
        "# Parámetros\n",
        "a = -2\n",
        "b = 2\n",
        "tolerance = 1e-9\n",
        "\n",
        "# Cálculo de la integral\n",
        "result = adaptive_quadrature(integrand, a, b, tolerance)\n",
        "\n",
        "print(f\"Resultado de la integral: {result:.10f}\")\n",
        "\n",
        "# Resultado esperado\n",
        "expected_result = 10240 / 693\n",
        "print(f\"Resultado esperado: {expected_result:.10f}\")\n",
        "\n",
        "# Comparación\n",
        "difference = abs(result - expected_result)\n",
        "print(f\"Diferencia con el resultado esperado: {difference:.10f}\")\n"
      ],
      "metadata": {
        "colab": {
          "base_uri": "https://localhost:8080/"
        },
        "id": "rvj0my7vFy9I",
        "outputId": "c828f9c7-2786-42b4-fb2e-50072b259b1d"
      },
      "execution_count": 14,
      "outputs": [
        {
          "output_type": "stream",
          "name": "stdout",
          "text": [
            "Resultado de la integral: 0.0000000000\n",
            "Resultado esperado: 14.7763347763\n",
            "Diferencia con el resultado esperado: 14.7763347763\n"
          ]
        }
      ]
    },
    {
      "cell_type": "code",
      "source": [
        "from sympy import symbols, integrate\n",
        "\n",
        "x = symbols('x')\n",
        "f = x**10 - 10*x**8 + 33*x**6 - 40*x**4 + 16*x**2\n",
        "integral = integrate(f, (x, -2, 2))\n",
        "print(f\"Resultado simbólico de la integral: {integral}\")\n"
      ],
      "metadata": {
        "colab": {
          "base_uri": "https://localhost:8080/"
        },
        "id": "TmmIVeEAF2P3",
        "outputId": "9d4dd603-bead-4a84-b3c1-060edccfe978"
      },
      "execution_count": 5,
      "outputs": [
        {
          "output_type": "stream",
          "name": "stdout",
          "text": [
            "Resultado simbólico de la integral: 10240/693\n"
          ]
        }
      ]
    }
  ]
}