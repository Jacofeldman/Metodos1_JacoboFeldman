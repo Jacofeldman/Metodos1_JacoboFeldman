{
  "nbformat": 4,
  "nbformat_minor": 0,
  "metadata": {
    "colab": {
      "provenance": [],
      "authorship_tag": "ABX9TyMpn8bF1XDvKn8BKwrG7prG",
      "include_colab_link": true
    },
    "kernelspec": {
      "name": "python3",
      "display_name": "Python 3"
    },
    "language_info": {
      "name": "python"
    }
  },
  "cells": [
    {
      "cell_type": "markdown",
      "metadata": {
        "id": "view-in-github",
        "colab_type": "text"
      },
      "source": [
        "<a href=\"https://colab.research.google.com/github/Jacofeldman/Metodos1_JacoboFeldman/blob/main/Tarea3/integral10.ipynb\" target=\"_parent\"><img src=\"https://colab.research.google.com/assets/colab-badge.svg\" alt=\"Open In Colab\"/></a>"
      ]
    },
    {
      "cell_type": "code",
      "execution_count": 5,
      "metadata": {
        "colab": {
          "base_uri": "https://localhost:8080/"
        },
        "id": "X2-LXpfC42Nn",
        "outputId": "189ec65a-9fcf-4016-b6b2-a02d8bb4ff34"
      },
      "outputs": [
        {
          "output_type": "stream",
          "name": "stdout",
          "text": [
            "-9*h**5/10\n"
          ]
        }
      ],
      "source": [
        "import sympy as sp\n",
        "\n",
        "# Definir las variables simbólicas\n",
        "x, h = sp.symbols('x h')\n",
        "\n",
        "# Definir el integrando\n",
        "integrando = x * (x - h) * (x - 2*h) * (x - 3*h)\n",
        "\n",
        "# Calcular la integral\n",
        "I = sp.integrate(integrando, (x, 0, 3*h))\n",
        "\n",
        "# Mostrar el resultado de la integral\n",
        "I_simplificado = sp.simplify(I)\n",
        "print(I_simplificado)\n"
      ]
    },
    {
      "cell_type": "code",
      "source": [
        "# Definir las variables necesarias para el error teórico\n",
        "xi, f4 = sp.symbols('xi f4')  # f4 representa f^(4)(xi)\n",
        "\n",
        "# Factorial de 4 (4!)\n",
        "factorial_4 = sp.factorial(4)\n",
        "\n",
        "# Expresión del error teórico\n",
        "error_teorico = (f4 / factorial_4) * (-9*h**5 / 10)\n",
        "\n",
        "# Simplificar el error teórico\n",
        "error_teorico_simplificado = sp.simplify(error_teorico)\n",
        "print(error_teorico_simplificado)\n"
      ],
      "metadata": {
        "colab": {
          "base_uri": "https://localhost:8080/"
        },
        "id": "NGHCaR8j5RgY",
        "outputId": "05a29851-4377-4f68-a7dd-af91703d8112"
      },
      "execution_count": 4,
      "outputs": [
        {
          "output_type": "stream",
          "name": "stdout",
          "text": [
            "-3*f4*h**5/80\n"
          ]
        }
      ]
    }
  ]
}