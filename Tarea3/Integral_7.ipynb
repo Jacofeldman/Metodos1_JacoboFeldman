{
  "nbformat": 4,
  "nbformat_minor": 0,
  "metadata": {
    "colab": {
      "provenance": [],
      "authorship_tag": "ABX9TyNCPyiFl1ZC14pGMBIWF4e/",
      "include_colab_link": true
    },
    "kernelspec": {
      "name": "python3",
      "display_name": "Python 3"
    },
    "language_info": {
      "name": "python"
    }
  },
  "cells": [
    {
      "cell_type": "markdown",
      "metadata": {
        "id": "view-in-github",
        "colab_type": "text"
      },
      "source": [
        "<a href=\"https://colab.research.google.com/github/Jacofeldman/Metodos1_JacoboFeldman/blob/main/Tarea3/Integral_7.ipynb\" target=\"_parent\"><img src=\"https://colab.research.google.com/assets/colab-badge.svg\" alt=\"Open In Colab\"/></a>"
      ]
    },
    {
      "cell_type": "code",
      "source": [
        "import numpy as np\n",
        "\n",
        "def f(x, y, R)\n",
        "    value = R**2 - x**2 - y**2\n",
        "    if value >= 0:\n",
        "        return np.sqrt(value)\n",
        "    else:\n",
        "        return 0\n",
        "\n",
        "def create_grid(R, n):\n",
        "    x = np.linspace(-R, R, n + 1)\n",
        "    y = np.linspace(-R, R, n + 1)\n",
        "    dx = (2 * R) / n\n",
        "    return x, y, dx\n",
        "\n",
        "def integrate_volume(R, n):\n",
        "    x, y, dx = create_grid(R, n)\n",
        "    integral = 0\n",
        "\n",
        "    for i in range(n):\n",
        "        for j in range(n):\n",
        "\n",
        "            x1, y1 = x[i], y[j]\n",
        "            x2, y2 = x[i + 1], y[j]\n",
        "            x3, y3 = x[i], y[j + 1]\n",
        "            x4, y4 = x[i + 1], y[j + 1]\n",
        "\n",
        "\n",
        "            f1 = f(x1, y1, R)\n",
        "            f2 = f(x2, y2, R)\n",
        "            f3 = f(x3, y3, R)\n",
        "            f4 = f(x4, y4, R)\n",
        "\n",
        "\n",
        "            average_value = (f1 + f2 + f3 + f4) / 4\n",
        "\n",
        "\n",
        "            area = dx * dx\n",
        "\n",
        "\n",
        "            integral += average_value * area\n",
        "\n",
        "    return integral\n",
        "\n",
        "\n",
        "R = 1\n",
        "n = 100\n",
        "\n",
        "volume = integrate_volume(R, n)\n",
        "print(f\"Volumen aproximado de la semiesfera: {volume}\")\n"
      ],
      "metadata": {
        "colab": {
          "base_uri": "https://localhost:8080/"
        },
        "id": "DQp-rPCXv7_D",
        "outputId": "9096421d-f671-42b7-fa56-a4980a342b3e"
      },
      "execution_count": 32,
      "outputs": [
        {
          "output_type": "stream",
          "name": "stdout",
          "text": [
            "Volumen aproximado de la semiesfera: 2.0938469983337344\n"
          ]
        }
      ]
    }
  ]
}