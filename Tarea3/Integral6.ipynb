{
  "nbformat": 4,
  "nbformat_minor": 0,
  "metadata": {
    "colab": {
      "provenance": [],
      "authorship_tag": "ABX9TyMg8jLkUUSaEUxVBNJI6z+f",
      "include_colab_link": true
    },
    "kernelspec": {
      "name": "python3",
      "display_name": "Python 3"
    },
    "language_info": {
      "name": "python"
    }
  },
  "cells": [
    {
      "cell_type": "markdown",
      "metadata": {
        "id": "view-in-github",
        "colab_type": "text"
      },
      "source": [
        "<a href=\"https://colab.research.google.com/github/Jacofeldman/Metodos1_JacoboFeldman/blob/main/Tarea3/Integral6.ipynb\" target=\"_parent\"><img src=\"https://colab.research.google.com/assets/colab-badge.svg\" alt=\"Open In Colab\"/></a>"
      ]
    },
    {
      "cell_type": "code",
      "execution_count": 1,
      "metadata": {
        "colab": {
          "base_uri": "https://localhost:8080/"
        },
        "id": "TtWXEeqk25Fc",
        "outputId": "93d25f5e-59c3-4070-e03a-5bb208ff4856"
      },
      "outputs": [
        {
          "output_type": "stream",
          "name": "stdout",
          "text": [
            "Resultado del método del trapecio: 0.0003140096350469763\n"
          ]
        }
      ],
      "source": [
        "import numpy as np\n",
        "\n",
        "# Definir la función a integrar\n",
        "def f(x):\n",
        "    return (((0.01**2)-x**2)**(1/2))/(0.5+x)  # Puedes cambiar esta función por la que desees\n",
        "\n",
        "# Método del trapecio\n",
        "def trapezoide(a, b, n):\n",
        "    h = (b - a) / n\n",
        "    x = np.linspace(a, b, n+1)\n",
        "    y = f(x)\n",
        "    integral = (h/2) * (y[0] + 2 * np.sum(y[1:n]) + y[n])\n",
        "    return integral\n",
        "\n",
        "# Ejemplo de uso\n",
        "a = -0.01  # Límite inferior\n",
        "b = 0.01  # Límite superior\n",
        "n = 150  # Número de subintervalos (debe ser par)\n",
        "resultado_trapecio = trapezoide(a, b, n)\n",
        "print(f\"Resultado del método del trapecio: {resultado_trapecio}\")\n"
      ]
    },
    {
      "cell_type": "code",
      "source": [
        "import numpy as np\n",
        "\n",
        "# Definir la función a integrar\n",
        "def f(x):\n",
        "    return (((0.01**2)-x**2)**(1/2))/(0.5+x)  # Puedes cambiar esta función por la que desees\n",
        "\n",
        "# Método de Simpson 1/3\n",
        "def simpson(a, b, n):\n",
        "    if n % 2 != 0:\n",
        "        raise ValueError(\"El número de intervalos debe ser par para Simpson 1/3.\")\n",
        "\n",
        "    h = (b - a) / n\n",
        "    x = np.linspace(a, b, n+1)\n",
        "    y = f(x)\n",
        "    integral = (h / 3) * (y[0] + 4 * np.sum(y[1:n:2]) + 2 * np.sum(y[2:n-1:2]) + y[n])\n",
        "    return integral\n",
        "\n",
        "# Ejemplo de uso\n",
        "a = -0.01  # Límite inferior\n",
        "b = 0.01  # Límite superior\n",
        "n = 150  # Número de subintervalos (debe ser par)\n",
        "resultado_simpson = simpson(a, b, n)\n",
        "print(f\"Resultado del método de Simpson 1/3: {resultado_simpson}\")\n"
      ],
      "metadata": {
        "colab": {
          "base_uri": "https://localhost:8080/"
        },
        "id": "vd5me0gJ26H1",
        "outputId": "88c34b2f-c699-4f2e-ca7e-d4d4c1320146"
      },
      "execution_count": 2,
      "outputs": [
        {
          "output_type": "stream",
          "name": "stdout",
          "text": [
            "Resultado del método de Simpson 1/3: 0.0003141199122706422\n"
          ]
        }
      ]
    },
    {
      "cell_type": "code",
      "source": [
        "real= np.pi*(0.5-(((0.5**2)-(0.01**2))**(1/2)))\n",
        "\n",
        "print(\"Real: \" + str(real))\n",
        "calculo=((real-resultado_trapecio)*100)/real\n",
        "print(\"Porcentaje de error en Simpson: \" + str(calculo) + \" %\")\n",
        "calculo=((real-resultado_simpson)*100)/real\n",
        "print(\"Porcentaje de error en Trapecio: \" + str(calculo) + \" %\")"
      ],
      "metadata": {
        "colab": {
          "base_uri": "https://localhost:8080/"
        },
        "id": "TZv5kq5o3ghr",
        "outputId": "59511be0-06cb-4ddc-ba31-efe4110768f2"
      },
      "execution_count": 4,
      "outputs": [
        {
          "output_type": "stream",
          "name": "stdout",
          "text": [
            "Real: 0.0003141906875702543\n",
            "Porcentaje de error en Simpson: 0.05762504442068711 %\n",
            "Porcentaje de error en Trapecio: 0.022526224491074446 %\n"
          ]
        }
      ]
    }
  ]
}