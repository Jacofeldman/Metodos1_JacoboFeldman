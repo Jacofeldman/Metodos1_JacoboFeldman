{
  "nbformat": 4,
  "nbformat_minor": 0,
  "metadata": {
    "colab": {
      "provenance": [],
      "authorship_tag": "ABX9TyM+Fx+dMyqv5FWLwtTwy7WI",
      "include_colab_link": true
    },
    "kernelspec": {
      "name": "python3",
      "display_name": "Python 3"
    },
    "language_info": {
      "name": "python"
    }
  },
  "cells": [
    {
      "cell_type": "markdown",
      "metadata": {
        "id": "view-in-github",
        "colab_type": "text"
      },
      "source": [
        "<a href=\"https://colab.research.google.com/github/Jacofeldman/Metodos1_JacoboFeldman/blob/main/Tarea3/Integral16.ipynb\" target=\"_parent\"><img src=\"https://colab.research.google.com/assets/colab-badge.svg\" alt=\"Open In Colab\"/></a>"
      ]
    },
    {
      "cell_type": "code",
      "source": [
        "import numpy as np\n",
        "\n",
        "\n",
        "def f1(x):\n",
        "    return 1 / (x**4 + 1)\n",
        "\n",
        "\n",
        "def f2(t):\n",
        "    x=1/t\n",
        "    return ((1 / (x**4 + 1))*(x**2))\n",
        "\n",
        "\n",
        "def gauss_legendre_integral(f, a, b, n=10):\n",
        "\n",
        "    nodes, weight = np.polynomial.legendre.leggauss(n)\n",
        "\n",
        "\n",
        "    transformation = 0.5 * (b - a) * nodes + 0.5 * (a + b)\n",
        "\n",
        "\n",
        "    integral = 0.5 * (b - a) * np.sum(weight * f(transformation))\n",
        "    return integral\n",
        "\n",
        "\n",
        "\n",
        "integral1 = gauss_legendre_integral(f1, 0, 1)\n",
        "integral2 = gauss_legendre_integral(f2, 0, 1)\n",
        "\n",
        "# Sumar ambas integrales\n",
        "resultado = integral1 + integral2\n",
        "\n",
        "print(f\"Valor aproximado de la integral: {resultado}\")\n"
      ],
      "metadata": {
        "colab": {
          "base_uri": "https://localhost:8080/"
        },
        "id": "b291s9uEqCWG",
        "outputId": "03050eab-3c9e-4323-882b-5175643bb681"
      },
      "execution_count": 23,
      "outputs": [
        {
          "output_type": "stream",
          "name": "stdout",
          "text": [
            "Valor aproximado de la integral: 1.110720734515129\n"
          ]
        }
      ]
    }
  ]
}