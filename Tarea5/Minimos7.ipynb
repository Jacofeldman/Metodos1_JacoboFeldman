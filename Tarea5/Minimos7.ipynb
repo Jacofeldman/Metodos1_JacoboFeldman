{
  "nbformat": 4,
  "nbformat_minor": 0,
  "metadata": {
    "colab": {
      "provenance": [],
      "authorship_tag": "ABX9TyPIjhOnZd0i89T75qeyN6ba",
      "include_colab_link": true
    },
    "kernelspec": {
      "name": "python3",
      "display_name": "Python 3"
    },
    "language_info": {
      "name": "python"
    }
  },
  "cells": [
    {
      "cell_type": "markdown",
      "metadata": {
        "id": "view-in-github",
        "colab_type": "text"
      },
      "source": [
        "<a href=\"https://colab.research.google.com/github/Jacofeldman/Metodos1_JacoboFeldman/blob/main/Tarea5/Minimos7.ipynb\" target=\"_parent\"><img src=\"https://colab.research.google.com/assets/colab-badge.svg\" alt=\"Open In Colab\"/></a>"
      ]
    },
    {
      "cell_type": "code",
      "execution_count": 1,
      "metadata": {
        "colab": {
          "base_uri": "https://localhost:8080/"
        },
        "id": "k9GtKLX40c70",
        "outputId": "98b4ae13-2220-45d1-d93d-dfc7e424aeb7"
      },
      "outputs": [
        {
          "output_type": "execute_result",
          "data": {
            "text/plain": [
              "(array([-2.00000000e+00,  3.00000000e+00,  4.00000000e+00,  5.55111512e-16]),\n",
              " array([-2.00000000e+00,  3.00000000e+00,  4.00000000e+00,  3.33066907e-16]))"
            ]
          },
          "metadata": {},
          "execution_count": 1
        }
      ],
      "source": [
        "import numpy as np\n",
        "\n",
        "# Definimos el vector b y los vectores u1, u2, u3\n",
        "b = np.array([-3, -3, 8, 9])\n",
        "u1 = np.array([3, 1, 0, 1])\n",
        "u2 = np.array([1, 2, 1, 1])\n",
        "u3 = np.array([-1, 0, 2, -1])\n",
        "\n",
        "# Parte (a): Proyección ortogonal usando mínimos cuadrados\n",
        "# Construimos la matriz A con los vectores generadores como columnas\n",
        "A = np.column_stack((u1, u2, u3))\n",
        "\n",
        "# Resolución del problema de mínimos cuadrados: A.T * A * x = A.T * b\n",
        "x = np.linalg.lstsq(A, b, rcond=None)[0]  # Solución del sistema\n",
        "projection_a = A @ x  # Proyección ortogonal de b sobre el subespacio generado por u1, u2 y u3\n",
        "\n",
        "# Parte (b): Proyección ortogonal usando el proceso de Gram-Schmidt\n",
        "def gram_schmidt(vectors):\n",
        "    orthogonal_basis = []\n",
        "    for v in vectors:\n",
        "        for u in orthogonal_basis:\n",
        "            v = v - np.dot(v, u) / np.dot(u, u) * u\n",
        "        orthogonal_basis.append(v / np.linalg.norm(v))\n",
        "    return orthogonal_basis\n",
        "\n",
        "# Aplicamos el proceso de Gram-Schmidt a {u1, u2, u3}\n",
        "orthonormal_basis = gram_schmidt([u1, u2, u3])\n",
        "\n",
        "# Calculamos los coeficientes de proyección de b en la base ortonormal\n",
        "coefficients = [np.dot(b, v) for v in orthonormal_basis]\n",
        "projection_b = sum(c * v for c, v in zip(coefficients, orthonormal_basis))\n",
        "\n",
        "projection_a, projection_b\n"
      ]
    }
  ]
}