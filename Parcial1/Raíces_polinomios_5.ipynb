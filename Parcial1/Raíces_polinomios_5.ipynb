{
  "nbformat": 4,
  "nbformat_minor": 0,
  "metadata": {
    "colab": {
      "provenance": [],
      "authorship_tag": "ABX9TyNO1x3gRFpvzPgQqvI3CjXS",
      "include_colab_link": true
    },
    "kernelspec": {
      "name": "python3",
      "display_name": "Python 3"
    },
    "language_info": {
      "name": "python"
    }
  },
  "cells": [
    {
      "cell_type": "markdown",
      "metadata": {
        "id": "view-in-github",
        "colab_type": "text"
      },
      "source": [
        "<a href=\"https://colab.research.google.com/github/Jacofeldman/Metodos1_JacoboFeldman/blob/main/Parcial1/Ra%C3%ADces_polinomios_5.ipynb\" target=\"_parent\"><img src=\"https://colab.research.google.com/assets/colab-badge.svg\" alt=\"Open In Colab\"/></a>"
      ]
    },
    {
      "cell_type": "code",
      "execution_count": 1,
      "metadata": {
        "colab": {
          "base_uri": "https://localhost:8080/"
        },
        "id": "Ba7_EM1OG8eV",
        "outputId": "c010c1f4-1d9b-40c2-fe50-76888d2b2efa"
      },
      "outputs": [
        {
          "output_type": "stream",
          "name": "stdout",
          "text": [
            "Raíces de L_1(x): [1]\n",
            "Raíces de L_2(x): [2 - sqrt(2), sqrt(2) + 2]\n",
            "Raíces de L_3(x): [3 + (-1/2 - sqrt(3)*I/2)*(3 + 3*sqrt(2)*I)**(1/3) + 3/((-1/2 - sqrt(3)*I/2)*(3 + 3*sqrt(2)*I)**(1/3)), 3 + 3/((-1/2 + sqrt(3)*I/2)*(3 + 3*sqrt(2)*I)**(1/3)) + (-1/2 + sqrt(3)*I/2)*(3 + 3*sqrt(2)*I)**(1/3), 3 + 3/(3 + 3*sqrt(2)*I)**(1/3) + (3 + 3*sqrt(2)*I)**(1/3)]\n",
            "Raíces de L_4(x): [4 - sqrt(16 + 48/(96 + 48*sqrt(2)*I)**(1/3) + 2*(96 + 48*sqrt(2)*I)**(1/3))/2 - sqrt(32 - 2*(96 + 48*sqrt(2)*I)**(1/3) - 64/sqrt(16 + 48/(96 + 48*sqrt(2)*I)**(1/3) + 2*(96 + 48*sqrt(2)*I)**(1/3)) - 48/(96 + 48*sqrt(2)*I)**(1/3))/2, 4 + sqrt(16 + 48/(96 + 48*sqrt(2)*I)**(1/3) + 2*(96 + 48*sqrt(2)*I)**(1/3))/2 - sqrt(32 - 2*(96 + 48*sqrt(2)*I)**(1/3) + 64/sqrt(16 + 48/(96 + 48*sqrt(2)*I)**(1/3) + 2*(96 + 48*sqrt(2)*I)**(1/3)) - 48/(96 + 48*sqrt(2)*I)**(1/3))/2, 4 + sqrt(32 - 2*(96 + 48*sqrt(2)*I)**(1/3) - 64/sqrt(16 + 48/(96 + 48*sqrt(2)*I)**(1/3) + 2*(96 + 48*sqrt(2)*I)**(1/3)) - 48/(96 + 48*sqrt(2)*I)**(1/3))/2 - sqrt(16 + 48/(96 + 48*sqrt(2)*I)**(1/3) + 2*(96 + 48*sqrt(2)*I)**(1/3))/2, 4 + sqrt(32 - 2*(96 + 48*sqrt(2)*I)**(1/3) + 64/sqrt(16 + 48/(96 + 48*sqrt(2)*I)**(1/3) + 2*(96 + 48*sqrt(2)*I)**(1/3)) - 48/(96 + 48*sqrt(2)*I)**(1/3))/2 + sqrt(16 + 48/(96 + 48*sqrt(2)*I)**(1/3) + 2*(96 + 48*sqrt(2)*I)**(1/3))/2]\n",
            "Raíces de L_5(x): [CRootOf(x**5 - 25*x**4 + 200*x**3 - 600*x**2 + 600*x - 120, 0), CRootOf(x**5 - 25*x**4 + 200*x**3 - 600*x**2 + 600*x - 120, 1), CRootOf(x**5 - 25*x**4 + 200*x**3 - 600*x**2 + 600*x - 120, 2), CRootOf(x**5 - 25*x**4 + 200*x**3 - 600*x**2 + 600*x - 120, 3), CRootOf(x**5 - 25*x**4 + 200*x**3 - 600*x**2 + 600*x - 120, 4)]\n"
          ]
        }
      ],
      "source": [
        "import sympy as sp\n",
        "\n",
        "\n",
        "x = sp.symbols('x')\n",
        "\n",
        "laguerre_polynomials = [\n",
        "    sp.laguerre(1, x),\n",
        "    sp.laguerre(2, x),\n",
        "    sp.laguerre(3, x),\n",
        "    sp.laguerre(4, x),\n",
        "    sp.laguerre(5, x),\n",
        "]\n",
        "\n",
        "\n",
        "roots_laguerre = [sp.solve(p, x) for p in laguerre_polynomials]\n",
        "\n",
        "for i, roots in enumerate(roots_laguerre, 1):\n",
        "    print(f\"Raíces de L_{i}(x): {roots}\")\n",
        "\n"
      ]
    }
  ]
}