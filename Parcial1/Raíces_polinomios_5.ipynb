{
  "nbformat": 4,
  "nbformat_minor": 0,
  "metadata": {
    "colab": {
      "provenance": [],
      "authorship_tag": "ABX9TyNeoTYnSCYLD+PvOvvw4inz",
      "include_colab_link": true
    },
    "kernelspec": {
      "name": "python3",
      "display_name": "Python 3"
    },
    "language_info": {
      "name": "python"
    }
  },
  "cells": [
    {
      "cell_type": "markdown",
      "metadata": {
        "id": "view-in-github",
        "colab_type": "text"
      },
      "source": [
        "<a href=\"https://colab.research.google.com/github/Jacofeldman/Metodos1_JacoboFeldman/blob/main/Parcial1/Ra%C3%ADces_polinomios_5.ipynb\" target=\"_parent\"><img src=\"https://colab.research.google.com/assets/colab-badge.svg\" alt=\"Open In Colab\"/></a>"
      ]
    },
    {
      "cell_type": "code",
      "execution_count": 2,
      "metadata": {
        "colab": {
          "base_uri": "https://localhost:8080/"
        },
        "id": "Ba7_EM1OG8eV",
        "outputId": "1cac4fc6-873e-4db0-d7d9-f47d4652660a"
      },
      "outputs": [
        {
          "output_type": "stream",
          "name": "stdout",
          "text": [
            "Raíces de L_1(x): [1.00000000000000]\n",
            "Raíces de L_2(x): [0.585786437626905, 3.41421356237309]\n",
            "Raíces de L_3(x): [0.415774556783479, 2.29428036027904, 6.28994508293748]\n",
            "Raíces de L_4(x): [0.322547689619392, 1.74576110115835, 4.53662029692113, 9.39507091230113]\n",
            "Raíces de L_5(x): [0.263560319718141, 1.41340305910652, 3.59642577104072, 7.08581000585884, 12.6408008442758]\n"
          ]
        }
      ],
      "source": [
        "import sympy as sp\n",
        "\n",
        "x = sp.symbols('x')\n",
        "\n",
        "\n",
        "laguerre_polynomials = [\n",
        "    sp.laguerre(1, x),\n",
        "    sp.laguerre(2, x),\n",
        "    sp.laguerre(3, x),\n",
        "    sp.laguerre(4, x),\n",
        "    sp.laguerre(5, x),\n",
        "]\n",
        "\n",
        "\n",
        "roots_laguerre = [sp.nroots(p, n=15) for p in laguerre_polynomials]\n",
        "\n",
        "\n",
        "for i, roots in enumerate(roots_laguerre, 1):\n",
        "    print(f\"Raíces de L_{i}(x): {roots}\")\n",
        "\n"
      ]
    }
  ]
}