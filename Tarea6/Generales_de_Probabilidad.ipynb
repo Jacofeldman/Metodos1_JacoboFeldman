{
  "nbformat": 4,
  "nbformat_minor": 0,
  "metadata": {
    "colab": {
      "provenance": [],
      "authorship_tag": "ABX9TyMGSd5UapzYA/ytseNzD8lq",
      "include_colab_link": true
    },
    "kernelspec": {
      "name": "python3",
      "display_name": "Python 3"
    },
    "language_info": {
      "name": "python"
    }
  },
  "cells": [
    {
      "cell_type": "markdown",
      "metadata": {
        "id": "view-in-github",
        "colab_type": "text"
      },
      "source": [
        "<a href=\"https://colab.research.google.com/github/Jacofeldman/Metodos1_JacoboFeldman/blob/main/Tarea6/Generales_de_Probabilidad.ipynb\" target=\"_parent\"><img src=\"https://colab.research.google.com/assets/colab-badge.svg\" alt=\"Open In Colab\"/></a>"
      ]
    },
    {
      "cell_type": "code",
      "source": [
        "# Ejercicio 1\n",
        "\n",
        "# a) Calcular P(A), P(B), P(A ∪ B), y P(Aᶜ)\n",
        "p_a = 1/12  # Suma ≤ 3\n",
        "p_b = 1/2   # Primer dado impar\n",
        "p_a_union_b = 19/36\n",
        "p_a_complemento = 11/12\n",
        "\n",
        "print(f\"P(A) = {p_a}\")\n",
        "print(f\"P(B) = {p_b}\")\n",
        "print(f\"P(A ∪ B) = {p_a_union_b}\")\n",
        "print(f\"P(Aᶜ) = {p_a_complemento}\")\n"
      ],
      "metadata": {
        "colab": {
          "base_uri": "https://localhost:8080/"
        },
        "id": "a7d10Vz6S2Nj",
        "outputId": "fdcb7fa6-fe32-46e7-e2b5-2b9965b73909"
      },
      "execution_count": 9,
      "outputs": [
        {
          "output_type": "stream",
          "name": "stdout",
          "text": [
            "P(A) = 0.08333333333333333\n",
            "P(B) = 0.5\n",
            "P(A ∪ B) = 0.5277777777777778\n",
            "P(Aᶜ) = 0.9166666666666666\n"
          ]
        }
      ]
    },
    {
      "cell_type": "code",
      "source": [
        "from math import comb\n",
        "\n",
        "# Ejercicio 2\n",
        "\n",
        "# Función para calcular probabilidad combinatoria\n",
        "def probabilidad_defectuosos(total, defectuosos, seleccionados, al_menos=1):\n",
        "    total_comb = comb(total, seleccionados)\n",
        "    prob_no_defectuosos = comb(total - defectuosos, seleccionados) / total_comb\n",
        "    return 1 - prob_no_defectuosos if al_menos else prob_no_defectuosos\n",
        "\n",
        "# Variables del problema\n",
        "total_celulares = 50\n",
        "defectuosos = 2\n",
        "seleccionados = 5\n",
        "\n",
        "# Probabilidad de que al menos un celular sea defectuoso\n",
        "p_defectuoso = probabilidad_defectuosos(total_celulares, defectuosos, seleccionados)\n",
        "print(f\"Probabilidad de que al menos un celular sea defectuoso: P(A) = {p_defectuoso}\")\n"
      ],
      "metadata": {
        "colab": {
          "base_uri": "https://localhost:8080/"
        },
        "id": "KIgSrg3SS7qW",
        "outputId": "6a1e5aab-2ec9-469c-80c6-284bc7fe3146"
      },
      "execution_count": 10,
      "outputs": [
        {
          "output_type": "stream",
          "name": "stdout",
          "text": [
            "Probabilidad de que al menos un celular sea defectuoso: P(A) = 0.19183673469387752\n"
          ]
        }
      ]
    },
    {
      "cell_type": "code",
      "source": [
        "# Ejercicio 3\n",
        "\n",
        "# Probabilidades dadas\n",
        "p_diario = 0.6\n",
        "p_cable = 0.8\n",
        "p_ambos = 0.5\n",
        "\n",
        "# a) Probabilidad de que esté suscrito a al menos uno de los servicios\n",
        "p_union = p_diario + p_cable - p_ambos\n",
        "print(f\"a) P(A ∪ B) = {p_union}\")\n",
        "\n",
        "# b) Probabilidad de estar suscrito a uno, pero no a ambos servicios\n",
        "p_exclusivo = (p_diario - p_ambos) + (p_cable - p_ambos)\n",
        "print(f\"b) P((A ∩ Bᶜ) ∪ (B ∩ Aᶜ)) = {p_exclusivo}\")\n"
      ],
      "metadata": {
        "colab": {
          "base_uri": "https://localhost:8080/"
        },
        "id": "Oq8EZDsTTAt8",
        "outputId": "27156694-6770-4736-97bb-89c087fad251"
      },
      "execution_count": 11,
      "outputs": [
        {
          "output_type": "stream",
          "name": "stdout",
          "text": [
            "a) P(A ∪ B) = 0.8999999999999999\n",
            "b) P((A ∩ Bᶜ) ∪ (B ∩ Aᶜ)) = 0.4\n"
          ]
        }
      ]
    },
    {
      "cell_type": "code",
      "source": [
        "import matplotlib.pyplot as plt\n",
        "\n",
        "# Ejercicio 4\n",
        "\n",
        "# Función de probabilidad para fechas diferentes\n",
        "def probabilidad_fechas_diferentes(n, dias=365):\n",
        "    prob = 1.0\n",
        "    for i in range(n):\n",
        "        prob *= (dias - i) / dias\n",
        "    return prob\n",
        "\n",
        "# Graficar probabilidad para n ≤ 80\n",
        "n_values = range(1, 81)\n",
        "prob_values = [probabilidad_fechas_diferentes(n) for n in n_values]\n",
        "\n",
        "plt.plot(n_values, prob_values, marker='o')\n",
        "plt.title('Probabilidad de fechas diferentes de cumpleaños')\n",
        "plt.xlabel('Número de personas (n)')\n",
        "plt.ylabel('Probabilidad')\n",
        "plt.grid(True)\n",
        "plt.show()\n"
      ],
      "metadata": {
        "colab": {
          "base_uri": "https://localhost:8080/",
          "height": 472
        },
        "id": "FyuWoBQCTFds",
        "outputId": "8e9a040a-f1dc-4cc9-9e88-bf0e44222461"
      },
      "execution_count": 12,
      "outputs": [
        {
          "output_type": "display_data",
          "data": {
            "text/plain": [
              "<Figure size 640x480 with 1 Axes>"
            ],
            "image/png": "[encoded data removed]"
          },
          "metadata": {}
        }
      ]
    },
    {
      "cell_type": "code",
      "source": [
        "# Ejercicio 5\n",
        "\n",
        "# a) Probabilidad de que la suma sea 8\n",
        "p_a = 5/36\n",
        "\n",
        "# b) Probabilidad de que el segundo dado sea impar\n",
        "p_b = 1/2\n",
        "\n",
        "# c) P(A ∩ B)\n",
        "p_a_interseccion_b = 2/36\n",
        "\n",
        "# d) Comparación con P(A) * P(B)\n",
        "p_a_por_p_b = p_a * p_b\n",
        "\n",
        "print(f\"P(A) = {p_a}\")\n",
        "print(f\"P(B) = {p_b}\")\n",
        "print(f\"P(A ∩ B) = {p_a_interseccion_b}\")\n",
        "print(f\"P(A) * P(B) = {p_a_por_p_b}\")\n",
        "\n",
        "# Conclusión\n",
        "if p_a_interseccion_b == p_a_por_p_b:\n",
        "    print(\"Conclusión: Los eventos A y B son independientes.\")\n",
        "else:\n",
        "    print(\"Conclusión: Los eventos A y B no son independientes.\")\n"
      ],
      "metadata": {
        "colab": {
          "base_uri": "https://localhost:8080/"
        },
        "id": "MllW2oF0UanS",
        "outputId": "dba488b2-25c8-4ed0-87e8-dbac184547f5"
      },
      "execution_count": 18,
      "outputs": [
        {
          "output_type": "stream",
          "name": "stdout",
          "text": [
            "P(A) = 0.1388888888888889\n",
            "P(B) = 0.5\n",
            "P(A ∩ B) = 0.05555555555555555\n",
            "P(A) * P(B) = 0.06944444444444445\n",
            "Conclusión: Los eventos A y B no son independientes.\n"
          ]
        }
      ]
    },
    {
      "cell_type": "code",
      "source": [
        "import numpy as np\n",
        "\n",
        "# Ejercicio 6\n",
        "\n",
        "# Variables\n",
        "num_experimentos = int(1e5)\n",
        "\n",
        "# Simulación\n",
        "dados = np.random.randint(1, 7, (num_experimentos, 3))\n",
        "pares = np.sum(dados % 2 == 0, axis=1)\n",
        "\n",
        "# Probabilidad de obtener al menos un par\n",
        "p_un_par = np.mean(pares >= 1)\n",
        "print(f\"Probabilidad de obtener al menos un par: P(A) = {p_un_par}\")\n"
      ],
      "metadata": {
        "colab": {
          "base_uri": "https://localhost:8080/"
        },
        "id": "iM58nl_GTVuW",
        "outputId": "fe7fa0b0-9d5e-4300-e9ed-9cbd27c6e951"
      },
      "execution_count": 14,
      "outputs": [
        {
          "output_type": "stream",
          "name": "stdout",
          "text": [
            "Probabilidad de obtener al menos un par: P(A) = 0.87454\n"
          ]
        }
      ]
    },
    {
      "cell_type": "code",
      "source": [
        "import numpy as np\n",
        "\n",
        "# Ejercicio 7\n",
        "\n",
        "# Variables\n",
        "dados = 5\n",
        "caras = 6\n",
        "num_experimentos = int(1e5)\n",
        "\n",
        "# Simulación\n",
        "resultados = np.random.randint(1, caras + 1, (num_experimentos, dados))\n",
        "\n",
        "# a) Probabilidad de obtener exactamente 1 par\n",
        "pares = np.sum(resultados % 2 == 0, axis=1)\n",
        "p_a = np.mean(pares == 1)\n",
        "print(f\"a) Probabilidad de obtener exactamente 1 par: P(A) = {p_a}\")\n",
        "\n",
        "# b) Probabilidad de obtener exactamente 2 pares distintos\n",
        "pares_distintos = 0\n",
        "for experimento in resultados:\n",
        "    valores, conteos = np.unique(experimento, return_counts=True)\n",
        "    if np.sum(conteos == 2) == 2:  # Exactamente dos números aparecen dos veces\n",
        "        pares_distintos += 1\n",
        "p_b = pares_distintos / num_experimentos\n",
        "print(f\"b) Probabilidad de obtener exactamente 2 pares distintos: P(B) = {p_b}\")\n",
        "\n",
        "# c) Probabilidad de obtener 4 de la misma cara\n",
        "cuatro_iguales = 0\n",
        "for experimento in resultados:\n",
        "    valores, conteos = np.unique(experimento, return_counts=True)\n",
        "    if np.any(conteos == 4):  # Verifica si alguna cara aparece 4 veces\n",
        "        cuatro_iguales += 1\n",
        "p_c = cuatro_iguales / num_experimentos\n",
        "print(f\"c) Probabilidad de obtener 4 de la misma cara: P(C) = {p_c}\")\n"
      ],
      "metadata": {
        "colab": {
          "base_uri": "https://localhost:8080/"
        },
        "id": "7rh6suWHUnwH",
        "outputId": "df4014c6-d603-4b49-94f5-4d694c5a3ee5"
      },
      "execution_count": 20,
      "outputs": [
        {
          "output_type": "stream",
          "name": "stdout",
          "text": [
            "a) Probabilidad de obtener exactamente 1 par: P(A) = 0.15383\n",
            "b) Probabilidad de obtener exactamente 2 pares distintos: P(B) = 0.22938\n",
            "c) Probabilidad de obtener 4 de la misma cara: P(C) = 0.01938\n"
          ]
        }
      ]
    },
    {
      "cell_type": "code",
      "source": [
        "import numpy as np\n",
        "import matplotlib.pyplot as plt\n",
        "from math import factorial\n",
        "\n",
        "# Constante de Boltzmann\n",
        "k_B = 1.38e-23  # J/K\n",
        "\n",
        "# Función para calcular Omega (Punto a)\n",
        "def omega(N, n0, n1):\n",
        "    return factorial(N) / (factorial(n0) * factorial(n1))\n",
        "\n",
        "# Función de entropía usando Stirling (Punto b)\n",
        "def entropia(N, n0, n1):\n",
        "    S = k_B * (np.log(factorial(N)) - np.log(factorial(n0)) - np.log(factorial(n1)))\n",
        "    return S\n",
        "\n",
        "# Función de entropía en términos de x (Punto c)\n",
        "def entropia_x(N, x):\n",
        "    S = -k_B * N * (x * np.log(x) + (1 - x) * np.log(1 - x))\n",
        "    return S\n",
        "\n",
        "# Función para x(T) (Punto e)\n",
        "def x_T(T, delta_E):\n",
        "    return 1 / (1 + np.exp(delta_E / (k_B * T)))\n",
        "\n",
        "# Función para cambio de entropía en expansión isotérmica (Punto g)\n",
        "def delta_S(N, V1, V2):\n",
        "    return N * k_B * np.log(V2 / V1)\n",
        "\n",
        "# Valores iniciales (Para todos los puntos)\n",
        "N = 10\n",
        "n0, n1 = 6, 4\n",
        "x = n1 / N\n",
        "T = 300  # Temperatura en Kelvin\n",
        "delta_E = 1.6e-19  # Energía en Joules (1 eV)\n",
        "V1, V2 = 1, 2  # Volumen inicial y final\n",
        "\n",
        "# (a) Número de configuraciones posibles\n",
        "print(\"Punto (a):\")\n",
        "result_a = omega(N, n0, n1)\n",
        "print(f\"Ω(N={N}, n0={n0}, n1={n1}) = {result_a}\\n\")\n",
        "\n",
        "# (b) Entropía usando Stirling\n",
        "print(\"Punto (b):\")\n",
        "result_b = entropia(N, n0, n1)\n",
        "print(f\"S(N={N}, n0={n0}, n1={n1}) = {result_b:.2e} J/K\\n\")\n",
        "\n",
        "# (c) Entropía en términos de x\n",
        "print(\"Punto (c):\")\n",
        "result_c = entropia_x(N, x)\n",
        "print(f\"S(N={N}, x={x:.2f}) = {result_c:.2e} J/K\\n\")\n",
        "\n",
        "# (d) Dibujar S(N, x) / (k_B N) como función de x\n",
        "print(\"Punto (d): Graficando...\")\n",
        "x_vals = np.linspace(0.01, 0.99, 100)\n",
        "S_vals = [entropia_x(N, x) / (k_B * N) for x in x_vals]\n",
        "plt.plot(x_vals, S_vals)\n",
        "plt.title(\"Entropía S(N, x) / (k_B N) vs. x\")\n",
        "plt.xlabel(\"x\")\n",
        "plt.ylabel(\"S(N, x) / (k_B N)\")\n",
        "plt.grid(True)\n",
        "plt.show()\n",
        "print(\"Gráfica completada.\\n\")\n",
        "\n",
        "# (e) Proporción de partículas como función de la temperatura\n",
        "print(\"Punto (e):\")\n",
        "result_e = x_T(T, delta_E)\n",
        "print(f\"x(T={T} K, ΔE={delta_E:.2e} J) = {result_e:.4f}\\n\")\n",
        "\n",
        "# (f) Límites de T → 0 y T → ∞\n",
        "print(\"Punto (f):\")\n",
        "x_T0 = x_T(1e-6, delta_E)  # T -> 0\n",
        "x_Tinf = x_T(1e6, delta_E)  # T -> ∞\n",
        "S_inf = k_B * np.log(2)\n",
        "print(f\"x(T → 0) = {x_T0:.4f}\")\n",
        "print(f\"x(T → ∞) = {x_Tinf:.4f}\")\n",
        "print(f\"S(T → ∞) = {S_inf:.2e} J/K\\n\")\n",
        "\n",
        "# (g) Cambio de entropía en una expansión isotérmica\n",
        "print(\"Punto (g):\")\n",
        "result_g = delta_S(N, V1, V2)\n",
        "print(f\"ΔS para expansión isotérmica de V1={V1} a V2={V2} = {result_g:.2e} J/K\")\n"
      ],
      "metadata": {
        "colab": {
          "base_uri": "https://localhost:8080/",
          "height": 888
        },
        "id": "lOlssOLbcWJ8",
        "outputId": "0bb5ad0a-1739-4155-e816-4969197c6ba1"
      },
      "execution_count": 21,
      "outputs": [
        {
          "output_type": "stream",
          "name": "stdout",
          "text": [
            "Punto (a):\n",
            "Ω(N=10, n0=6, n1=4) = 210.0\n",
            "\n",
            "Punto (b):\n",
            "S(N=10, n0=6, n1=4) = 7.38e-23 J/K\n",
            "\n",
            "Punto (c):\n",
            "S(N=10, x=0.40) = 9.29e-23 J/K\n",
            "\n",
            "Punto (d): Graficando...\n"
          ]
        },
        {
          "output_type": "display_data",
          "data": {
            "text/plain": [
              "<Figure size 640x480 with 1 Axes>"
            ],
            "image/png": "[encoded data removed]"
          },
          "metadata": {}
        },
        {
          "output_type": "stream",
          "name": "stdout",
          "text": [
            "Gráfica completada.\n",
            "\n",
            "Punto (e):\n",
            "x(T=300 K, ΔE=1.60e-19 J) = 0.0000\n",
            "\n",
            "Punto (f):\n",
            "x(T → 0) = 0.0000\n",
            "x(T → ∞) = 0.4971\n",
            "S(T → ∞) = 9.57e-24 J/K\n",
            "\n",
            "Punto (g):\n",
            "ΔS para expansión isotérmica de V1=1 a V2=2 = 9.57e-23 J/K\n"
          ]
        },
        {
          "output_type": "stream",
          "name": "stderr",
          "text": [
            "<ipython-input-21-a51ba8c9ab71>:24: RuntimeWarning: overflow encountered in exp\n",
            "  return 1 / (1 + np.exp(delta_E / (k_B * T)))\n"
          ]
        }
      ]
    }
  ]
}