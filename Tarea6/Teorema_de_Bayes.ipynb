{
  "nbformat": 4,
  "nbformat_minor": 0,
  "metadata": {
    "colab": {
      "provenance": [],
      "authorship_tag": "ABX9TyPcks+Kj8dzVtUjHkn7XF3L",
      "include_colab_link": true
    },
    "kernelspec": {
      "name": "python3",
      "display_name": "Python 3"
    },
    "language_info": {
      "name": "python"
    }
  },
  "cells": [
    {
      "cell_type": "markdown",
      "metadata": {
        "id": "view-in-github",
        "colab_type": "text"
      },
      "source": [
        "<a href=\"https://colab.research.google.com/github/Jacofeldman/Metodos1_JacoboFeldman/blob/main/Tarea6/Teorema_de_Bayes.ipynb\" target=\"_parent\"><img src=\"https://colab.research.google.com/assets/colab-badge.svg\" alt=\"Open In Colab\"/></a>"
      ]
    },
    {
      "cell_type": "code",
      "source": [
        "# Ejercicio 1\n",
        "\n",
        "# Probabilidades dadas\n",
        "p_fuma = 0.4\n",
        "p_no_fuma = 1 - p_fuma\n",
        "p_hombre_fuma = 0.75\n",
        "p_mujer_no_fuma = 0.6\n",
        "\n",
        "# Probabilidades marginales\n",
        "p_hombre_no_fuma = 1 - p_mujer_no_fuma\n",
        "\n",
        "# a) Calcular P(M)\n",
        "p_mujer = (p_fuma * (1 - p_hombre_fuma)) + (p_no_fuma * p_mujer_no_fuma)\n",
        "print(f\"a) P(M) = {p_mujer}\")\n",
        "\n",
        "# b) Probabilidad de que sea hombre y fume\n",
        "p_hombre_y_fuma = p_fuma * p_hombre_fuma\n",
        "print(f\"b) P(F ∩ H) = {p_hombre_y_fuma}\")\n",
        "\n",
        "# c) Probabilidad de que una mujer fume\n",
        "p_mujer_y_fuma = p_fuma * (1 - p_hombre_fuma)\n",
        "p_f_m = p_mujer_y_fuma / p_mujer\n",
        "print(f\"c) P(F/M) = {p_f_m}\")\n"
      ],
      "metadata": {
        "colab": {
          "base_uri": "https://localhost:8080/"
        },
        "id": "vKuUD1y7QFPs",
        "outputId": "f475eb2f-0498-4d36-e803-37276c096b82"
      },
      "execution_count": 2,
      "outputs": [
        {
          "output_type": "stream",
          "name": "stdout",
          "text": [
            "a) P(M) = 0.45999999999999996\n",
            "b) P(F ∩ H) = 0.30000000000000004\n",
            "c) P(F/M) = 0.2173913043478261\n"
          ]
        }
      ]
    },
    {
      "cell_type": "code",
      "source": [
        "import numpy as np\n",
        "from scipy.stats import poisson\n",
        "\n",
        "# Ejercicio 2\n",
        "\n",
        "# Valores iniciales\n",
        "lambdas = np.array([1, 2, 3, 4])\n",
        "priori = np.array([0.4, 0.3, 0.2, 0.1])\n",
        "x_observado = 4\n",
        "\n",
        "# a) Estimación inicial del parámetro λ\n",
        "lambda_hat = np.sum(lambdas * priori)\n",
        "print(f\"a) Estimación inicial de λ = {lambda_hat}\")\n",
        "\n",
        "# b) Función de verosimilitud\n",
        "verosimilitud = poisson.pmf(x_observado, lambdas)\n",
        "print(f\"b) Función de verosimilitud: {verosimilitud}\")\n",
        "\n",
        "# c) Posterior usando Bayes\n",
        "posterior = (verosimilitud * priori) / np.sum(verosimilitud * priori)\n",
        "print(f\"c) Distribución posterior: {posterior}\")\n",
        "\n",
        "# d) Verificar normalización\n",
        "print(f\"d) Suma de la distribución posterior: {np.sum(posterior)}\")\n",
        "\n",
        "# e) Modelo más probable\n",
        "modelo_mas_probable = lambdas[np.argmax(posterior)]\n",
        "print(f\"e) Modelo más probable: λ = {modelo_mas_probable}\")\n",
        "\n",
        "# f) Mejor parámetro λ\n",
        "lambda_estimado = np.sum(lambdas * posterior)\n",
        "print(f\"f) Mejor parámetro estimado: λ = {lambda_estimado}\")\n"
      ],
      "metadata": {
        "colab": {
          "base_uri": "https://localhost:8080/"
        },
        "id": "nIz3N9CbQWY8",
        "outputId": "7878c173-ac48-418a-e503-607dc0154658"
      },
      "execution_count": 3,
      "outputs": [
        {
          "output_type": "stream",
          "name": "stdout",
          "text": [
            "a) Estimación inicial de λ = 2.0\n",
            "b) Función de verosimilitud: [0.01532831 0.09022352 0.16803136 0.19536681]\n",
            "c) Distribución posterior: [0.07101262 0.31348898 0.38922576 0.22627264]\n",
            "d) Suma de la distribución posterior: 0.9999999999999999\n",
            "e) Modelo más probable: λ = 3\n",
            "f) Mejor parámetro estimado: λ = 2.770758425317679\n"
          ]
        }
      ]
    },
    {
      "cell_type": "code",
      "source": [
        "import numpy as np\n",
        "from scipy.stats import poisson\n",
        "\n",
        "# Ejercicio 3\n",
        "\n",
        "# Nuevos datos observados\n",
        "x1 = 4\n",
        "x2 = 5\n",
        "lambdas = np.array([1, 2, 3, 4])\n",
        "priori = np.array([0.4, 0.3, 0.2, 0.1])\n",
        "\n",
        "# a) Estimación inicial del parámetro λ (con los datos previos del Ejercicio 2)\n",
        "lambda_hat = np.sum(lambdas * priori)\n",
        "print(f\"a) Estimación inicial de λ = {lambda_hat}\")\n",
        "\n",
        "# b) Función de verosimilitud conjunta para los datos x1 y x2\n",
        "verosimilitud_conjunta = poisson.pmf(x1, lambdas) * poisson.pmf(x2, lambdas)\n",
        "print(f\"b) Función de verosimilitud conjunta: {verosimilitud_conjunta}\")\n",
        "\n",
        "# c) Posterior usando Bayes con la verosimilitud conjunta\n",
        "posterior_conjunto = (verosimilitud_conjunta * priori) / np.sum(verosimilitud_conjunta * priori)\n",
        "print(f\"c) Distribución posterior conjunta: {posterior_conjunto}\")\n",
        "\n",
        "# d) Verificar normalización del posterior conjunto\n",
        "print(f\"d) Suma de la distribución posterior conjunta: {np.sum(posterior_conjunto)}\")\n",
        "\n",
        "# e) Modelo más probable\n",
        "modelo_mas_probable_conjunto = lambdas[np.argmax(posterior_conjunto)]\n",
        "print(f\"e) Modelo más probable: λ = {modelo_mas_probable_conjunto}\")\n",
        "\n",
        "# f) Mejor parámetro λ con los nuevos datos\n",
        "lambda_estimado_conjunto = np.sum(lambdas * posterior_conjunto)\n",
        "print(f\"f) Mejor parámetro estimado: λ = {lambda_estimado_conjunto}\")\n"
      ],
      "metadata": {
        "colab": {
          "base_uri": "https://localhost:8080/"
        },
        "id": "gAy8HyoVRTry",
        "outputId": "b493a051-a35f-4fa1-c927-72d2bf54f804"
      },
      "execution_count": 6,
      "outputs": [
        {
          "output_type": "stream",
          "name": "stdout",
          "text": [
            "a) Estimación inicial de λ = 2.0\n",
            "b) Función de verosimilitud conjunta: [4.69914178e-05 3.25611358e-03 1.69407219e-02 3.05345539e-02]\n",
            "c) Distribución posterior conjunta: [0.00252736 0.1313438  0.45556534 0.41056351]\n",
            "d) Suma de la distribución posterior conjunta: 1.0\n",
            "e) Modelo más probable: λ = 3\n",
            "f) Mejor parámetro estimado: λ = 3.2741649869595384\n"
          ]
        }
      ]
    },
    {
      "cell_type": "code",
      "source": [
        "import numpy as np\n",
        "import matplotlib.pyplot as plt\n",
        "\n",
        "# Ejercicio 4\n",
        "\n",
        "# a) Definir la densidad de probabilidad\n",
        "flujo = np.array([2, 1, 1])  # electrones, protones, partículas α\n",
        "deteccion = np.array([0.9, 0.6, 0.2])\n",
        "\n",
        "priori_densidad = flujo / np.sum(flujo)\n",
        "print(f\"a) Densidad de probabilidad a priori: {priori_densidad}\")\n",
        "\n",
        "# b) Probabilidad de que una partícula sea detectada\n",
        "p_deteccion = np.sum(priori_densidad * deteccion)\n",
        "print(f\"b) P(D) = {p_deteccion}\")\n",
        "\n",
        "# c) Función de probabilidad posterior\n",
        "posterior_particulas = (deteccion * priori_densidad) / p_deteccion\n",
        "print(f\"c) Posterior: {posterior_particulas}\")\n",
        "\n",
        "# Graficar la función de probabilidad posterior\n",
        "labels = ['Electrones', 'Protones', 'Partículas α']\n",
        "plt.stem(labels, posterior_particulas)\n",
        "plt.title('Distribución posterior para cada tipo de partícula')\n",
        "plt.ylabel('Probabilidad')\n",
        "plt.xlabel('Partícula')\n",
        "plt.show()\n",
        "\n",
        "# d) Probabilidad condicional para cada partícula\n",
        "p_electron_d = posterior_particulas[0]\n",
        "p_proton_d = posterior_particulas[1]\n",
        "p_alpha_d = posterior_particulas[2]\n",
        "print(f\"d) P(e/D) = {p_electron_d}, P(p/D) = {p_proton_d}, P(α/D) = {p_alpha_d}\")\n"
      ],
      "metadata": {
        "colab": {
          "base_uri": "https://localhost:8080/",
          "height": 541
        },
        "id": "dU1e_XMmRX0p",
        "outputId": "3c5adb0b-88c9-4778-81f1-ef104c803568"
      },
      "execution_count": 8,
      "outputs": [
        {
          "output_type": "stream",
          "name": "stdout",
          "text": [
            "a) Densidad de probabilidad a priori: [0.5  0.25 0.25]\n",
            "b) P(D) = 0.65\n",
            "c) Posterior: [0.69230769 0.23076923 0.07692308]\n"
          ]
        },
        {
          "output_type": "display_data",
          "data": {
            "text/plain": [
              "<Figure size 640x480 with 1 Axes>"
            ],
            "image/png": "[encoded data removed]"
          },
          "metadata": {}
        },
        {
          "output_type": "stream",
          "name": "stdout",
          "text": [
            "d) P(e/D) = 0.6923076923076923, P(p/D) = 0.23076923076923075, P(α/D) = 0.07692307692307693\n"
          ]
        }
      ]
    }
  ]
}