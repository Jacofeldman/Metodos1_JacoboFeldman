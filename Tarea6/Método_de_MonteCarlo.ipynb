{
  "nbformat": 4,
  "nbformat_minor": 0,
  "metadata": {
    "colab": {
      "provenance": [],
      "authorship_tag": "ABX9TyObMJjohlx4MNyrSQLW2Vyv",
      "include_colab_link": true
    },
    "kernelspec": {
      "name": "python3",
      "display_name": "Python 3"
    },
    "language_info": {
      "name": "python"
    }
  },
  "cells": [
    {
      "cell_type": "markdown",
      "metadata": {
        "id": "view-in-github",
        "colab_type": "text"
      },
      "source": [
        "<a href=\"https://colab.research.google.com/github/Jacofeldman/Metodos1_JacoboFeldman/blob/main/Tarea6/M%C3%A9todo_de_MonteCarlo.ipynb\" target=\"_parent\"><img src=\"https://colab.research.google.com/assets/colab-badge.svg\" alt=\"Open In Colab\"/></a>"
      ]
    },
    {
      "cell_type": "code",
      "source": [
        "# Parámetros de la esfera\n",
        "rho = 1  # kg/m^3\n",
        "N = int(1e6)  # Número de puntos aleatorios\n",
        "\n",
        "# Generación de puntos aleatorios dentro de la esfera\n",
        "def generate_points_in_sphere(N):\n",
        "    x = np.random.uniform(-1, 1, N)\n",
        "    y = np.random.uniform(-1, 1, N)\n",
        "    z = np.random.uniform(-1, 1, N)\n",
        "    mask = x**2 + y**2 + z**2 <= 1  # Condición para estar dentro de la esfera\n",
        "    return x[mask], y[mask], z[mask]\n",
        "\n",
        "# Momentos de inercia\n",
        "def compute_inertia(N):\n",
        "    x, y, z = generate_points_in_sphere(N)\n",
        "    I_xx = rho * np.mean(y**2 + z**2)\n",
        "    I_yy = rho * np.mean(x**2 + z**2)\n",
        "    I_zz = rho * np.mean(x**2 + y**2)\n",
        "    return I_xx, I_yy, I_zz\n",
        "\n",
        "# Producto de inercia\n",
        "def compute_product_inertia(N):\n",
        "    x, y, z = generate_points_in_sphere(N)\n",
        "    I_xy = rho * np.mean(x * y)\n",
        "    I_xz = rho * np.mean(x * z)\n",
        "    I_yz = rho * np.mean(y * z)\n",
        "    return I_xy, I_xz, I_yz\n",
        "\n",
        "# Cálculo de momentos y productos de inercia\n",
        "I_xx, I_yy, I_zz = compute_inertia(N)\n",
        "I_xy, I_xz, I_yz = compute_product_inertia(N)\n",
        "\n",
        "# Resultados\n",
        "print(f\"I_xx = {I_xx:.5f}, I_yy = {I_yy:.5f}, I_zz = {I_zz:.5f}\")\n",
        "print(f\"I_xy = {I_xy:.5f}, I_xz = {I_xz:.5f}, I_yz = {I_yz:.5f}\")\n"
      ],
      "metadata": {
        "colab": {
          "base_uri": "https://localhost:8080/"
        },
        "id": "3jK4QAgZemFn",
        "outputId": "4e969eb8-5fd5-480c-99ac-a7fcebe4f6de"
      },
      "execution_count": 8,
      "outputs": [
        {
          "output_type": "stream",
          "name": "stdout",
          "text": [
            "I_xx = 0.40020, I_yy = 0.40008, I_zz = 0.40033\n",
            "I_xy = -0.00028, I_xz = 0.00016, I_yz = -0.00019\n"
          ]
        }
      ]
    },
    {
      "cell_type": "code",
      "source": [
        "import numpy as np\n",
        "from scipy.special import gamma\n",
        "\n",
        "# Parámetros de la distribución Beta\n",
        "alpha = 2\n",
        "beta = 4\n",
        "\n",
        "# Función de la distribución Beta\n",
        "def beta_distribution(x, alpha, beta):\n",
        "    coef = gamma(alpha + beta) / (gamma(alpha) * gamma(beta))\n",
        "    return coef * (x**(alpha - 1)) * ((1 - x)**(beta - 1))\n",
        "\n",
        "# Método de aceptación y rechazo\n",
        "def monte_carlo_beta_area(alpha, beta, uncertainty=0.01):\n",
        "    max_f = beta_distribution(alpha / (alpha + beta), alpha, beta)  # Máximo de la función Beta\n",
        "    n_aceptados = 0\n",
        "    n_total = 0\n",
        "    area_estimada = 0\n",
        "    while True:\n",
        "        # Generar puntos aleatorios en el dominio y rango de la función\n",
        "        x_random = np.random.uniform(0, 1)\n",
        "        y_random = np.random.uniform(0, max_f)\n",
        "        n_total += 1\n",
        "\n",
        "        # Aceptar o rechazar el punto\n",
        "        if y_random <= beta_distribution(x_random, alpha, beta):\n",
        "            n_aceptados += 1\n",
        "\n",
        "        # Estimación del área\n",
        "        area_estimada = n_aceptados / n_total\n",
        "        error_relativo = 1 / np.sqrt(n_total)\n",
        "\n",
        "        if error_relativo <= uncertainty:\n",
        "            break\n",
        "\n",
        "    return area_estimada, error_relativo\n",
        "\n",
        "# Cálculo\n",
        "area, error = monte_carlo_beta_area(alpha, beta, uncertainty=0.01)\n",
        "print(f\"Área bajo la curva: {area:.5f}\")\n",
        "print(f\"Error relativo estimado: {error:.5f}\")\n"
      ],
      "metadata": {
        "colab": {
          "base_uri": "https://localhost:8080/"
        },
        "id": "rdt8iqA2eqmg",
        "outputId": "5182cde6-fe31-43eb-fa94-70530a4a7923"
      },
      "execution_count": 7,
      "outputs": [
        {
          "output_type": "stream",
          "name": "stdout",
          "text": [
            "Área bajo la curva: 0.49850\n",
            "Error relativo estimado: 0.01000\n"
          ]
        }
      ]
    }
  ]
}