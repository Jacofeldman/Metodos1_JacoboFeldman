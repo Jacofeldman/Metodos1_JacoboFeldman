{
  "nbformat": 4,
  "nbformat_minor": 0,
  "metadata": {
    "colab": {
      "provenance": [],
      "gpuType": "T4",
      "authorship_tag": "ABX9TyPonFiy16VAwCwCNSwbcYkt",
      "include_colab_link": true
    },
    "kernelspec": {
      "name": "python3",
      "display_name": "Python 3"
    },
    "language_info": {
      "name": "python"
    },
    "accelerator": "GPU"
  },
  "cells": [
    {
      "cell_type": "markdown",
      "metadata": {
        "id": "view-in-github",
        "colab_type": "text"
      },
      "source": [
        "<a href=\"https://colab.research.google.com/github/Jacofeldman/Metodos1_JacoboFeldman/blob/main/Tarea6/Tecnicas_de_conteo_sin_17_y_20.ipynb\" target=\"_parent\"><img src=\"https://colab.research.google.com/assets/colab-badge.svg\" alt=\"Open In Colab\"/></a>"
      ]
    },
    {
      "cell_type": "code",
      "source": [
        "import math\n",
        "\n",
        "# Funciones auxiliares\n",
        "def factorial(n):\n",
        "    return math.factorial(n)\n",
        "\n",
        "def permutacion_sin_repeticion(n, r):\n",
        "    return math.perm(n, r)\n",
        "\n",
        "def combinacion_sin_repeticion(n, r):\n",
        "    return math.comb(n, r)\n",
        "\n",
        "def combinacion_con_repeticion(n, r):\n",
        "    return math.comb(n + r - 1, r)\n",
        "\n",
        "# Ejercicios\n",
        "# 1. Podio de primer y segundo lugar (permutación sin repetición)\n",
        "p1 = permutacion_sin_repeticion(3, 2)\n",
        "print(f\"1) Formas de quedar en el podio: {p1}\")\n",
        "\n",
        "# 2. Ensalada de frutas con 2 ingredientes (combinación sin repetición)\n",
        "p2 = combinacion_sin_repeticion(3, 2)\n",
        "print(f\"2) Formas de preparar la ensalada: {p2}\")\n",
        "\n",
        "# 3. Cola de 5 amigos (permutación de todos los elementos)\n",
        "p3 = factorial(5)\n",
        "print(f\"3) Formas de hacer la cola: {p3}\")\n",
        "\n",
        "# 4. Podio de un concurso con 8 participantes (permutación sin repetición)\n",
        "p4 = permutacion_sin_repeticion(8, 3)\n",
        "print(f\"4) Formas de otorgar premios: {p4}\")\n",
        "\n",
        "# 5. Selección de 2 marineros entre 10 (combinación sin repetición)\n",
        "p5 = combinacion_sin_repeticion(10, 2)\n",
        "print(f\"5) Formas de seleccionar marineros: {p5}\")\n",
        "\n",
        "# 6. Acomodar 5 libros de 7 (permutación sin repetición)\n",
        "p6 = permutacion_sin_repeticion(7, 5)\n",
        "print(f\"6) Formas de acomodar libros: {p6}\")\n",
        "\n",
        "# 7. Comité de 2 alumnos entre 10 (combinación sin repetición)\n",
        "p7 = combinacion_sin_repeticion(10, 2)\n",
        "print(f\"7) Formas de formar el comité: {p7}\")\n",
        "\n",
        "# 8. Palabras con las letras de REMEMBER (permutación con repetición)\n",
        "p8 = factorial(8) // (factorial(3) * factorial(2) * factorial(2) * factorial(1) * factorial(1))\n",
        "print(f\"8) Palabras diferentes con REMEMBER: {p8}\")\n",
        "\n",
        "# 9. Equipos de 6 jugadoras con María fija (combinación sin repetición)\n",
        "p9 = combinacion_sin_repeticion(11, 5)\n",
        "print(f\"9) Equipos con María fija: {p9}\")\n",
        "\n",
        "# 10. Jugos surtidos con al menos 2 frutas (combinación sin repetición)\n",
        "p10 = sum(combinacion_sin_repeticion(4, r) for r in range(2, 5))\n",
        "print(f\"10) Jugos surtidos posibles: {p10}\")\n",
        "\n",
        "# 11. Presidente, vicepresidente y secretario (permutación sin repetición)\n",
        "p11 = permutacion_sin_repeticion(10, 3)\n",
        "print(f\"11) Formas de seleccionar 3 estudiantes: {p11}\")\n",
        "\n",
        "# 12. Campeón y subcampeón (permutación sin repetición)\n",
        "p12 = permutacion_sin_repeticion(8, 2)\n",
        "print(f\"12) Formas de ganar los premios: {p12}\")\n",
        "\n",
        "# 13. Números de 3 cifras distintas del 1 al 7 (permutación sin repetición)\n",
        "p13 = permutacion_sin_repeticion(7, 3)\n",
        "print(f\"13) Números de 3 cifras distintas: {p13}\")\n",
        "\n",
        "# 14. Números de 3 cifras con repetición del 1 al 7 (variación con repetición)\n",
        "p14 = 7 ** 3\n",
        "print(f\"14) Números de 3 cifras con repetición: {p14}\")\n",
        "\n",
        "# 15. Comité de 3 estudiantes entre 10 (combinación sin repetición)\n",
        "p15 = combinacion_sin_repeticion(10, 3)\n",
        "print(f\"15) Formas de seleccionar el comité: {p15}\")\n",
        "\n",
        "# 16. Placas de 3 letras y 3 dígitos (variación con repetición)\n",
        "p16 = (26 ** 3) * (10 ** 3)\n",
        "print(f\"16) Placas diferentes posibles: {p16}\")\n",
        "\n",
        "\n",
        "# 18. Helado de 3 sabores entre 7 (combinación sin repetición)\n",
        "p18 = combinacion_con_repeticion(7, 3)\n",
        "print(f\"18) Combinaciones de helado: {p18}\")\n",
        "\n",
        "# 19. Gaseosas (combinaciones sin y con repetición)\n",
        "p19_sin_rep = combinacion_sin_repeticion(6, 3)\n",
        "p19_con_rep = combinacion_con_repeticion(6, 3)\n",
        "print(f\"19) Formas de seleccionar gaseosas (sin repetición): {p19_sin_rep}\")\n",
        "print(f\"    Formas de seleccionar gaseosas (con repetición): {p19_con_rep}\")\n",
        "\n",
        "\n"
      ],
      "metadata": {
        "colab": {
          "base_uri": "https://localhost:8080/"
        },
        "id": "TjoQI2m0PUgQ",
        "outputId": "785814fb-82b2-4482-b9e8-1b17b969783b"
      },
      "execution_count": 16,
      "outputs": [
        {
          "output_type": "stream",
          "name": "stdout",
          "text": [
            "1) Formas de quedar en el podio: 6\n",
            "2) Formas de preparar la ensalada: 3\n",
            "3) Formas de hacer la cola: 120\n",
            "4) Formas de otorgar premios: 336\n",
            "5) Formas de seleccionar marineros: 45\n",
            "6) Formas de acomodar libros: 2520\n",
            "7) Formas de formar el comité: 45\n",
            "8) Palabras diferentes con REMEMBER: 1680\n",
            "9) Equipos con María fija: 462\n",
            "10) Jugos surtidos posibles: 11\n",
            "11) Formas de seleccionar 3 estudiantes: 720\n",
            "12) Formas de ganar los premios: 56\n",
            "13) Números de 3 cifras distintas: 210\n",
            "14) Números de 3 cifras con repetición: 343\n",
            "15) Formas de seleccionar el comité: 120\n",
            "16) Placas diferentes posibles: 17576000\n",
            "18) Combinaciones de helado: 84\n",
            "19) Formas de seleccionar gaseosas (sin repetición): 20\n",
            "    Formas de seleccionar gaseosas (con repetición): 56\n"
          ]
        }
      ]
    }
  ]
}