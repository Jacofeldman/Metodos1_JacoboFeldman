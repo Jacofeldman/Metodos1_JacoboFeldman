{
  "nbformat": 4,
  "nbformat_minor": 0,
  "metadata": {
    "colab": {
      "provenance": [],
      "authorship_tag": "ABX9TyMQN5xqL16nIg21l6nuOsys",
      "include_colab_link": true
    },
    "kernelspec": {
      "name": "python3",
      "display_name": "Python 3"
    },
    "language_info": {
      "name": "python"
    }
  },
  "cells": [
    {
      "cell_type": "markdown",
      "metadata": {
        "id": "view-in-github",
        "colab_type": "text"
      },
      "source": [
        "<a href=\"https://colab.research.google.com/github/Jacofeldman/Metodos1_JacoboFeldman/blob/main/Tarea6/Muestreo_sin_7.ipynb\" target=\"_parent\"><img src=\"https://colab.research.google.com/assets/colab-badge.svg\" alt=\"Open In Colab\"/></a>"
      ]
    },
    {
      "cell_type": "code",
      "source": [
        "# Ejercicio 9: Velocidad media en un viaje de ida y vuelta\n",
        "\n",
        "# Velocidades en cada tramo\n",
        "v1 = 30  # mi/h de A a B\n",
        "v2 = 60  # mi/h de B a A\n",
        "\n",
        "# Distancias (iguales para ida y vuelta, asumimos d)\n",
        "d = 1  # Distancia arbitraria (se cancelará)\n",
        "\n",
        "# Tiempo en cada tramo\n",
        "t1 = d / v1\n",
        "t2 = d / v2\n",
        "\n",
        "# Velocidad media\n",
        "v_media = (2 * d) / (t1 + t2)\n",
        "print(f\"Velocidad media en el viaje completo: {v_media:.2f} mi/h\")\n"
      ],
      "metadata": {
        "colab": {
          "base_uri": "https://localhost:8080/"
        },
        "id": "1ggAthzAgAbl",
        "outputId": "3617db79-e3af-4c43-9056-bcbc204ddc0a"
      },
      "execution_count": 9,
      "outputs": [
        {
          "output_type": "stream",
          "name": "stdout",
          "text": [
            "Velocidad media en el viaje completo: 40.00 mi/h\n"
          ]
        }
      ]
    },
    {
      "cell_type": "code",
      "source": [
        "# Ejercicio 10: Demostración\n",
        "\n",
        "# Distancias y velocidades\n",
        "d1, d2, d3 = 100, 200, 300  # millas\n",
        "v1, v2, v3 = 50, 60, 80     # mi/h\n",
        "\n",
        "# Cálculo directo de la velocidad media (fórmula del problema)\n",
        "V_formula = (d1 + d2 + d3) / (d1 / v1 + d2 / v2 + d3 / v3)\n",
        "\n",
        "# Media armónica ponderada\n",
        "pesos = np.array([d1, d2, d3])\n",
        "velocidades = np.array([v1, v2, v3])\n",
        "V_harmonica = np.sum(pesos) / np.sum(pesos / velocidades)\n",
        "\n",
        "# Verificación\n",
        "print(f\"Velocidad media calculada con la fórmula: {V_formula:.2f} mi/h\")\n",
        "print(f\"Velocidad media como media armónica ponderada: {V_harmonica:.2f} mi/h\")\n",
        "\n",
        "# Confirmar que ambas son iguales\n",
        "assert np.isclose(V_formula, V_harmonica), \"La demostración falló: no son equivalentes.\"\n",
        "print(\"Demostración completa: la velocidad media es una media armónica ponderada.\")\n"
      ],
      "metadata": {
        "id": "dvABW4JpgnTo",
        "outputId": "b6908d89-5a44-4900-a218-c980e76f7b92",
        "colab": {
          "base_uri": "https://localhost:8080/"
        }
      },
      "execution_count": 12,
      "outputs": [
        {
          "output_type": "stream",
          "name": "stdout",
          "text": [
            "Velocidad media calculada con la fórmula: 66.06 mi/h\n",
            "Velocidad media como media armónica ponderada: 66.06 mi/h\n",
            "Demostración completa: la velocidad media es una media armónica ponderada.\n"
          ]
        }
      ]
    },
    {
      "cell_type": "code",
      "source": [
        "import numpy as np\n",
        "\n",
        "# Parámetros\n",
        "N = int(1e4)  # Número de eventos\n",
        "a = np.array([1, 2, -1])  # Coeficientes\n",
        "\n",
        "# Generar variables aleatorias\n",
        "X1 = np.random.gamma(2, 3, N)   # X1 ~ Γ(2, 3)\n",
        "X2 = np.random.uniform(0, 10, N)  # X2 ~ U(0, 10)\n",
        "X3 = np.random.normal(5, 2, N)  # X3 ~ N(5, 2)\n",
        "\n",
        "# Construir X como combinación lineal\n",
        "X = a[0] * X1 + a[1] * X2 + a[2] * X3\n",
        "\n",
        "# (a) Primer y segundo momento directamente del array\n",
        "E_X = np.mean(X)  # Valor esperado\n",
        "Var_X = np.var(X)  # Varianza\n",
        "print(f\"(a) E(X) = {E_X:.2f}, Var(X) = {Var_X:.2f}\")\n",
        "\n",
        "# (b) Cálculos usando las definiciones generales\n",
        "# Medias y varianzas de las variables\n",
        "E_X1, E_X2, E_X3 = np.mean(X1), np.mean(X2), np.mean(X3)\n",
        "Var_X1, Var_X2, Var_X3 = np.var(X1), np.var(X2), np.var(X3)\n",
        "\n",
        "# Matriz de covarianza\n",
        "X_matrix = np.vstack((X1, X2, X3)).T\n",
        "Cov_X = np.cov(X_matrix, rowvar=False)\n",
        "\n",
        "# Usando la ecuación (7.32)\n",
        "E_X_general = np.dot(a, [E_X1, E_X2, E_X3])\n",
        "Var_X_general = np.dot(a, np.dot(Cov_X, a))\n",
        "print(f\"(b) E(X) = {E_X_general:.2f}, Var(X) = {Var_X_general:.2f}\")\n",
        "\n",
        "# (c) Coeficiente de correlación de Pearson\n",
        "corr_matrix = np.corrcoef(X_matrix, rowvar=False)\n",
        "print(\"(c) Matriz de correlación de Pearson:\")\n",
        "print(corr_matrix)\n",
        "\n",
        "# (d) Demostración de la fórmula de la varianza de la media\n",
        "# Para N = 2\n",
        "N_demo = 2\n",
        "X_demo = np.array([X1[:N_demo], X2[:N_demo], X3[:N_demo]])\n",
        "Var_media = (1 / N_demo**2) * np.sum(np.var(X_demo, axis=1)) + \\\n",
        "            (2 / N_demo**2) * np.sum([Cov_X[i, j] for i in range(3) for j in range(i + 1, 3)])\n",
        "print(f\"(d) Varianza de la media para N=2: {Var_media:.2f}\")\n"
      ],
      "metadata": {
        "colab": {
          "base_uri": "https://localhost:8080/"
        },
        "id": "zwNBN9VWgQrH",
        "outputId": "52edbe90-81e0-459d-8ac1-dd43a9f87967"
      },
      "execution_count": 11,
      "outputs": [
        {
          "output_type": "stream",
          "name": "stdout",
          "text": [
            "(a) E(X) = 10.90, Var(X) = 55.52\n",
            "(b) E(X) = 10.90, Var(X) = 55.52\n",
            "(c) Matriz de correlación de Pearson:\n",
            "[[ 1.          0.00163658 -0.01715398]\n",
            " [ 0.00163658  1.          0.01971042]\n",
            " [-0.01715398  0.01971042  1.        ]]\n",
            "(d) Varianza de la media para N=2: 0.75\n"
          ]
        }
      ]
    }
  ]
}