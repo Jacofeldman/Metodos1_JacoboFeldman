{
  "nbformat": 4,
  "nbformat_minor": 0,
  "metadata": {
    "colab": {
      "provenance": [],
      "gpuType": "T4",
      "authorship_tag": "ABX9TyMqg/4NoQDMUJB99xx9Y6K8",
      "include_colab_link": true
    },
    "kernelspec": {
      "name": "python3",
      "display_name": "Python 3"
    },
    "language_info": {
      "name": "python"
    },
    "accelerator": "GPU"
  },
  "cells": [
    {
      "cell_type": "markdown",
      "metadata": {
        "id": "view-in-github",
        "colab_type": "text"
      },
      "source": [
        "<a href=\"https://colab.research.google.com/github/Jacofeldman/Metodos1_JacoboFeldman/blob/main/Tarea6/Probabilidad_condicional_y_total.ipynb\" target=\"_parent\"><img src=\"https://colab.research.google.com/assets/colab-badge.svg\" alt=\"Open In Colab\"/></a>"
      ]
    },
    {
      "cell_type": "code",
      "source": [
        "# Solución del problema 1\n",
        "# Datos\n",
        "total_personas = 1000\n",
        "hombres_con_gafas = 185\n",
        "hombres_sin_gafas = 415\n",
        "mujeres_con_gafas = 115\n",
        "mujeres_sin_gafas = 285\n",
        "\n",
        "# a) Probabilidad de ser hombre\n",
        "prob_hombre = (hombres_con_gafas + hombres_sin_gafas) / total_personas\n",
        "print(f\"Probabilidad de ser hombre P(H) = {prob_hombre:.2f}\")\n",
        "\n",
        "# b) Probabilidad de ser mujer\n",
        "prob_mujer = (mujeres_con_gafas + mujeres_sin_gafas) / total_personas\n",
        "print(f\"Probabilidad de ser mujer P(M) = {prob_mujer:.2f}\")\n",
        "\n",
        "# c) Probabilidad de usar gafas\n",
        "personas_con_gafas = hombres_con_gafas + mujeres_con_gafas\n",
        "prob_gafas = personas_con_gafas / total_personas\n",
        "print(f\"Probabilidad de usar gafas P(G) = {prob_gafas:.2f}\")\n",
        "\n",
        "# d) Probabilidad de que una mujer use gafas\n",
        "prob_gafas_mujer = mujeres_con_gafas / (mujeres_con_gafas + mujeres_sin_gafas)\n",
        "print(f\"Probabilidad de usar gafas si es mujer P(G/M) = {prob_gafas_mujer:.2f}\")"
      ],
      "metadata": {
        "colab": {
          "base_uri": "https://localhost:8080/"
        },
        "id": "MCBXVIa2cSE7",
        "outputId": "e91e2e65-76fd-40c4-c539-fb66b51518a1"
      },
      "execution_count": 2,
      "outputs": [
        {
          "output_type": "stream",
          "name": "stdout",
          "text": [
            "Probabilidad de ser hombre P(H) = 0.60\n",
            "Probabilidad de ser mujer P(M) = 0.40\n",
            "Probabilidad de usar gafas P(G) = 0.30\n",
            "Probabilidad de usar gafas si es mujer P(G/M) = 0.29\n"
          ]
        }
      ]
    },
    {
      "cell_type": "code",
      "source": [
        "# Solución del problema 2 (corrigiendo con el dado)\n",
        "# Datos\n",
        "urna_1 = {\"rojas\": 3, \"negras\": 1, \"verdes\": 6}\n",
        "urna_2 = {\"rojas\": 6, \"negras\": 2, \"verdes\": 2}\n",
        "total_bolas_urna_1 = sum(urna_1.values())\n",
        "total_bolas_urna_2 = sum(urna_2.values())\n",
        "\n",
        "# Probabilidades del dado\n",
        "prob_urna_1 = 1 / 3\n",
        "prob_urna_2 = 2 / 3\n",
        "\n",
        "# a) Probabilidad de que la bola sea roja\n",
        "prob_roja = (prob_urna_1 * (urna_1[\"rojas\"] / total_bolas_urna_1)) + \\\n",
        "            (prob_urna_2 * (urna_2[\"rojas\"] / total_bolas_urna_2))\n",
        "print(f\"Probabilidad de que sea roja P(R) = {prob_roja:.2f}\")\n",
        "\n",
        "# b) Probabilidad de que la bola sea negra\n",
        "prob_negra = (prob_urna_1 * (urna_1[\"negras\"] / total_bolas_urna_1)) + \\\n",
        "             (prob_urna_2 * (urna_2[\"negras\"] / total_bolas_urna_2))\n",
        "print(f\"Probabilidad de que sea negra P(N) = {prob_negra:.2f}\")\n",
        "\n",
        "# c) Probabilidad de que sea de la urna 1 dado que es negra\n",
        "# Usamos P(U1|N) = P(N|U1) * P(U1) / P(N)\n",
        "prob_negra_urna_1 = urna_1[\"negras\"] / total_bolas_urna_1\n",
        "prob_urna_1_dado_negra = (prob_negra_urna_1 * prob_urna_1) / prob_negra\n",
        "print(f\"Probabilidad de que sea de la urna 1 dado que es negra P(1/N) = {prob_urna_1_dado_negra:.2f}\")\n",
        "\n",
        "# d) Probabilidad de que sea de la urna 2 dado que es negra\n",
        "# Usamos P(U2|N) = P(N|U2) * P(U2) / P(N)\n",
        "prob_negra_urna_2 = urna_2[\"negras\"] / total_bolas_urna_2\n",
        "prob_urna_2_dado_negra = (prob_negra_urna_2 * prob_urna_2) / prob_negra\n",
        "print(f\"Probabilidad de que sea de la urna 2 dado que es negra P(2/N) = {prob_urna_2_dado_negra:.2f}\")\n"
      ],
      "metadata": {
        "colab": {
          "base_uri": "https://localhost:8080/"
        },
        "id": "eqSJYCQbdPkH",
        "outputId": "f8dfac12-edc6-4bc8-8534-8ca8810b72db"
      },
      "execution_count": 5,
      "outputs": [
        {
          "output_type": "stream",
          "name": "stdout",
          "text": [
            "Probabilidad de que sea roja P(R) = 0.50\n",
            "Probabilidad de que sea negra P(N) = 0.17\n",
            "Probabilidad de que sea de la urna 1 dado que es negra P(1/N) = 0.20\n",
            "Probabilidad de que sea de la urna 2 dado que es negra P(2/N) = 0.80\n"
          ]
        }
      ]
    },
    {
      "cell_type": "code",
      "source": [
        "# Solución del problema 3\n",
        "# Datos\n",
        "dulces_total = 5  # 2 de limón y 3 de fresa\n",
        "dulces_fresa = 3\n",
        "\n",
        "# Probabilidad de que ambos dulces sean de fresa\n",
        "prob_ambos_fresa = (dulces_fresa / dulces_total) * ((dulces_fresa - 1) / (dulces_total - 1))\n",
        "print(f\"Probabilidad de que ambos dulces sean de fresa P(F ∩ F') = {prob_ambos_fresa:.2f}\")"
      ],
      "metadata": {
        "colab": {
          "base_uri": "https://localhost:8080/"
        },
        "id": "3Wavz2IocbI0",
        "outputId": "245e7953-96c4-4590-f05f-b904e885f4b2"
      },
      "execution_count": 4,
      "outputs": [
        {
          "output_type": "stream",
          "name": "stdout",
          "text": [
            "Probabilidad de que ambos dulces sean de fresa P(F ∩ F') = 0.30\n"
          ]
        }
      ]
    }
  ]
}