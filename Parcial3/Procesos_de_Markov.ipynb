{
  "nbformat": 4,
  "nbformat_minor": 0,
  "metadata": {
    "colab": {
      "provenance": [],
      "authorship_tag": "ABX9TyOPgUW/aa5MP7E9GcfcsGNH",
      "include_colab_link": true
    },
    "kernelspec": {
      "name": "python3",
      "display_name": "Python 3"
    },
    "language_info": {
      "name": "python"
    }
  },
  "cells": [
    {
      "cell_type": "markdown",
      "metadata": {
        "id": "view-in-github",
        "colab_type": "text"
      },
      "source": [
        "<a href=\"https://colab.research.google.com/github/Jacofeldman/Metodos1_JacoboFeldman/blob/main/Parcial3/Procesos_de_Markov.ipynb\" target=\"_parent\"><img src=\"https://colab.research.google.com/assets/colab-badge.svg\" alt=\"Open In Colab\"/></a>"
      ]
    },
    {
      "cell_type": "code",
      "source": [
        "import numpy as np\n",
        "\n",
        "# (a) Descripción de las variables observables\n",
        "print(\"(a) Variables observables:\")\n",
        "print(\"S1: Producto en la estación de producción.\")\n",
        "print(\"S2: Producto en la estación de empaque.\")\n",
        "print(\"S3: Producto enviado al mercado.\")\n",
        "\n",
        "# (b) Definir el conjunto de estados\n",
        "S = ['S1', 'S2', 'S3']\n",
        "print(\"\\n(b) Conjunto de estados:\")\n",
        "print(f\"S = {S}\")\n",
        "\n",
        "# (c) Construir la matriz de transición\n",
        "P = np.array([\n",
        "    [0.1, 0.9, 0.0],  # Transiciones desde S1\n",
        "    [0.0, 0.05, 0.95], # Transiciones desde S2\n",
        "    [0.0, 0.0, 1.0]    # Transiciones desde S3\n",
        "])\n",
        "print(\"\\n(c) Matriz de transición P:\")\n",
        "print(P)\n",
        "\n",
        "# (d) Encontrar el estado estable\n",
        "# Resolver πP = π, donde π es el vector de estado estable.\n",
        "# También se asegura que la suma de las probabilidades sea 1.\n",
        "A = np.append(P.T - np.eye(3), [np.ones(3)], axis=0)\n",
        "b = np.append(np.zeros(3), [1])\n",
        "pi = np.linalg.lstsq(A, b, rcond=None)[0]  # Resuelve el sistema\n",
        "\n",
        "print(\"\\n(d) Estado estable (π):\")\n",
        "print(pi)\n",
        "print(\"Interpretación: En el largo plazo, estas son las probabilidades de encontrar el sistema en cada estado.\")\n",
        "\n",
        "# (e) Probabilidad en estado estable de que ambas estaciones estén ocupadas\n",
        "# Esto ocurre si el producto está en S1 o S2.\n",
        "p_ambas_ocupadas = pi[0] + pi[1]\n",
        "print(\"\\n(e) Probabilidad en estado estable de que ambas estaciones estén ocupadas:\")\n",
        "print(p_ambas_ocupadas)\n",
        "\n",
        "# (f) Probabilidad en estado estable de que al menos una estación esté ocupada\n",
        "# Esto también ocurre si el producto está en S1 o S2.\n",
        "p_al_menos_una_ocupada = pi[0] + pi[1]\n",
        "print(\"\\n(f) Probabilidad en estado estable de que al menos una estación esté ocupada:\")\n",
        "print(p_al_menos_una_ocupada)\n",
        "\n",
        "# (g) Probabilidad en estado estable de que la estación de producción esté vacía\n",
        "# Esto ocurre si el sistema está en S2 o S3.\n",
        "p_produccion_vacia = pi[1] + pi[2]\n",
        "print(\"\\n(g) Probabilidad en estado estable de que la estación de producción esté vacía:\")\n",
        "print(p_produccion_vacia)\n"
      ],
      "metadata": {
        "colab": {
          "base_uri": "https://localhost:8080/"
        },
        "id": "1sTlJIoZV0jP",
        "outputId": "0961bff2-212a-431a-9e43-4cce9db57b2d"
      },
      "execution_count": 15,
      "outputs": [
        {
          "output_type": "stream",
          "name": "stdout",
          "text": [
            "(a) Variables observables:\n",
            "S1: Producto en la estación de producción.\n",
            "S2: Producto en la estación de empaque.\n",
            "S3: Producto enviado al mercado.\n",
            "\n",
            "(b) Conjunto de estados:\n",
            "S = ['S1', 'S2', 'S3']\n",
            "\n",
            "(c) Matriz de transición P:\n",
            "[[0.1  0.9  0.  ]\n",
            " [0.   0.05 0.95]\n",
            " [0.   0.   1.  ]]\n",
            "\n",
            "(d) Estado estable (π):\n",
            "[ 1.59731365e-16 -1.11022302e-16  1.00000000e+00]\n",
            "Interpretación: En el largo plazo, estas son las probabilidades de encontrar el sistema en cada estado.\n",
            "\n",
            "(e) Probabilidad en estado estable de que ambas estaciones estén ocupadas:\n",
            "4.8709062599485396e-17\n",
            "\n",
            "(f) Probabilidad en estado estable de que al menos una estación esté ocupada:\n",
            "4.8709062599485396e-17\n",
            "\n",
            "(g) Probabilidad en estado estable de que la estación de producción esté vacía:\n",
            "0.9999999999999999\n"
          ]
        }
      ]
    },
    {
      "cell_type": "code",
      "source": [
        "import numpy as np\n",
        "\n",
        "# Matriz de transición\n",
        "P = np.array([\n",
        "    [0.1, 0.9, 0.0],  # Desde S1\n",
        "    [0.0, 0.05, 0.95], # Desde S2\n",
        "    [0.02, 0.0, 0.98]  # Desde S3\n",
        "])\n",
        "\n",
        "# Construcción de la matriz A y el vector b para resolver πP = π\n",
        "A = np.append(P.T - np.eye(3), [np.ones(3)], axis=0)\n",
        "b = np.append(np.zeros(3), [1])\n",
        "\n",
        "# Resolviendo para π\n",
        "pi = np.linalg.lstsq(A, b, rcond=None)[0]\n",
        "print(\"Estado estable (π):\", pi)\n",
        "\n",
        "# (e) Probabilidad de que ambas estaciones estén ocupadas (S1 y S2)\n",
        "p_ambas_ocupadas = pi[0] * pi[1]\n",
        "print(\"\\nProbabilidad de que ambas estaciones estén ocupadas:\")\n",
        "print(p_ambas_ocupadas*100,\"%\")\n",
        "\n",
        "# (f) Probabilidad de que al menos una estación esté ocupada (S1 o S2)\n",
        "p_al_menos_una_ocupada = pi[0] + pi[1]\n",
        "print(\"\\nProbabilidad de que al menos una estación esté ocupada:\")\n",
        "print(p_al_menos_una_ocupada*100,\"%\")\n",
        "\n",
        "p_produccion_vacia = pi[1] + pi[2]\n",
        "print(\"\\nProbabilidad de que la estación de producción esté vacía:\")\n",
        "print(p_produccion_vacia*100,\"%\")\n"
      ],
      "metadata": {
        "colab": {
          "base_uri": "https://localhost:8080/"
        },
        "id": "bws1dM-AWzdp",
        "outputId": "3926371b-afde-4492-ce24-6e03fb5d3ef3"
      },
      "execution_count": 23,
      "outputs": [
        {
          "output_type": "stream",
          "name": "stdout",
          "text": [
            "Estado estable (π): [0.02130045 0.02017937 0.95852018]\n",
            "\n",
            "Probabilidad de que ambas estaciones estén ocupadas:\n",
            "0.04298296768485175\n",
            "\n",
            "Probabilidad de que al menos una estación esté ocupada:\n",
            "4.147982062780262\n",
            "\n",
            "Probabilidad de que la estación de producción esté vacía:\n",
            "97.86995515695062 %\n"
          ]
        }
      ]
    }
  ]
}